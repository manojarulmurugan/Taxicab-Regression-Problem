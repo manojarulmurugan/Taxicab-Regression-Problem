{
 "cells": [
  {
   "cell_type": "code",
   "execution_count": 1,
   "id": "8d03ea8d",
   "metadata": {
    "_cell_guid": "b1076dfc-b9ad-4769-8c92-a6c4dae69d19",
    "_uuid": "8f2839f25d086af736a60e9eeb907d3b93b6e0e5",
    "execution": {
     "iopub.execute_input": "2023-12-09T09:46:17.497750Z",
     "iopub.status.busy": "2023-12-09T09:46:17.497396Z",
     "iopub.status.idle": "2023-12-09T09:46:18.199232Z",
     "shell.execute_reply": "2023-12-09T09:46:18.198136Z"
    },
    "papermill": {
     "duration": 0.721709,
     "end_time": "2023-12-09T09:46:18.201522",
     "exception": false,
     "start_time": "2023-12-09T09:46:17.479813",
     "status": "completed"
    },
    "tags": []
   },
   "outputs": [
    {
     "name": "stdout",
     "output_type": "stream",
     "text": [
      "/kaggle/input/taxi-fare-guru-total-amount-prediction-challenge/sample.csv.csv\n",
      "/kaggle/input/taxi-fare-guru-total-amount-prediction-challenge/train.csv\n",
      "/kaggle/input/taxi-fare-guru-total-amount-prediction-challenge/test.csv\n"
     ]
    }
   ],
   "source": [
    "# This Python 3 environment comes with many helpful analytics libraries installed\n",
    "# It is defined by the kaggle/python Docker image: https://github.com/kaggle/docker-python\n",
    "# For example, here's several helpful packages to load\n",
    "\n",
    "import numpy as np # linear algebra\n",
    "import pandas as pd # data processing, CSV file I/O (e.g. pd.read_csv)\n",
    "\n",
    "# Input data files are available in the read-only \"../input/\" directory\n",
    "# For example, running this (by clicking run or pressing Shift+Enter) will list all files under the input directory\n",
    "\n",
    "import os\n",
    "for dirname, _, filenames in os.walk('/kaggle/input'):\n",
    "    for filename in filenames:\n",
    "        print(os.path.join(dirname, filename))\n",
    "\n",
    "# You can write up to 20GB to the current directory (/kaggle/working/) that gets preserved as output when you create a version using \"Save & Run All\" \n",
    "# You can also write temporary files to /kaggle/temp/, but they won't be saved outside of the current session"
   ]
  },
  {
   "cell_type": "code",
   "execution_count": 2,
   "id": "ff789144",
   "metadata": {
    "execution": {
     "iopub.execute_input": "2023-12-09T09:46:18.236230Z",
     "iopub.status.busy": "2023-12-09T09:46:18.235564Z",
     "iopub.status.idle": "2023-12-09T09:46:18.901921Z",
     "shell.execute_reply": "2023-12-09T09:46:18.901022Z"
    },
    "papermill": {
     "duration": 0.686682,
     "end_time": "2023-12-09T09:46:18.904650",
     "exception": false,
     "start_time": "2023-12-09T09:46:18.217968",
     "status": "completed"
    },
    "tags": []
   },
   "outputs": [
    {
     "data": {
      "text/html": [
       "<div>\n",
       "<style scoped>\n",
       "    .dataframe tbody tr th:only-of-type {\n",
       "        vertical-align: middle;\n",
       "    }\n",
       "\n",
       "    .dataframe tbody tr th {\n",
       "        vertical-align: top;\n",
       "    }\n",
       "\n",
       "    .dataframe thead th {\n",
       "        text-align: right;\n",
       "    }\n",
       "</style>\n",
       "<table border=\"1\" class=\"dataframe\">\n",
       "  <thead>\n",
       "    <tr style=\"text-align: right;\">\n",
       "      <th></th>\n",
       "      <th>VendorID</th>\n",
       "      <th>tpep_pickup_datetime</th>\n",
       "      <th>tpep_dropoff_datetime</th>\n",
       "      <th>passenger_count</th>\n",
       "      <th>trip_distance</th>\n",
       "      <th>RatecodeID</th>\n",
       "      <th>store_and_fwd_flag</th>\n",
       "      <th>PULocationID</th>\n",
       "      <th>DOLocationID</th>\n",
       "      <th>payment_type</th>\n",
       "      <th>extra</th>\n",
       "      <th>tip_amount</th>\n",
       "      <th>tolls_amount</th>\n",
       "      <th>improvement_surcharge</th>\n",
       "      <th>total_amount</th>\n",
       "      <th>congestion_surcharge</th>\n",
       "      <th>Airport_fee</th>\n",
       "    </tr>\n",
       "  </thead>\n",
       "  <tbody>\n",
       "    <tr>\n",
       "      <th>0</th>\n",
       "      <td>1</td>\n",
       "      <td>2023-06-28 17:20:21</td>\n",
       "      <td>2023-06-28 16:34:45</td>\n",
       "      <td>1.0</td>\n",
       "      <td>2.14</td>\n",
       "      <td>1.0</td>\n",
       "      <td>N</td>\n",
       "      <td>120</td>\n",
       "      <td>9</td>\n",
       "      <td>Credit Card</td>\n",
       "      <td>2.5</td>\n",
       "      <td>7.165589</td>\n",
       "      <td>0.0</td>\n",
       "      <td>1.0</td>\n",
       "      <td>20.64</td>\n",
       "      <td>2.5</td>\n",
       "      <td>0.0</td>\n",
       "    </tr>\n",
       "    <tr>\n",
       "      <th>1</th>\n",
       "      <td>0</td>\n",
       "      <td>2023-06-29 23:05:01</td>\n",
       "      <td>2023-06-29 22:01:35</td>\n",
       "      <td>1.0</td>\n",
       "      <td>2.70</td>\n",
       "      <td>1.0</td>\n",
       "      <td>N</td>\n",
       "      <td>15</td>\n",
       "      <td>215</td>\n",
       "      <td>Credit Card</td>\n",
       "      <td>3.5</td>\n",
       "      <td>6.067401</td>\n",
       "      <td>0.0</td>\n",
       "      <td>1.0</td>\n",
       "      <td>25.55</td>\n",
       "      <td>2.5</td>\n",
       "      <td>0.0</td>\n",
       "    </tr>\n",
       "    <tr>\n",
       "      <th>2</th>\n",
       "      <td>1</td>\n",
       "      <td>2023-06-30 10:19:31</td>\n",
       "      <td>2023-06-30 11:13:10</td>\n",
       "      <td>1.0</td>\n",
       "      <td>1.15</td>\n",
       "      <td>1.0</td>\n",
       "      <td>N</td>\n",
       "      <td>167</td>\n",
       "      <td>223</td>\n",
       "      <td>Credit Card</td>\n",
       "      <td>0.0</td>\n",
       "      <td>4.111547</td>\n",
       "      <td>0.0</td>\n",
       "      <td>1.0</td>\n",
       "      <td>17.64</td>\n",
       "      <td>2.5</td>\n",
       "      <td>0.0</td>\n",
       "    </tr>\n",
       "    <tr>\n",
       "      <th>3</th>\n",
       "      <td>0</td>\n",
       "      <td>2023-06-29 13:23:09</td>\n",
       "      <td>2023-06-29 14:20:01</td>\n",
       "      <td>1.0</td>\n",
       "      <td>0.40</td>\n",
       "      <td>1.0</td>\n",
       "      <td>N</td>\n",
       "      <td>128</td>\n",
       "      <td>239</td>\n",
       "      <td>Credit Card</td>\n",
       "      <td>2.5</td>\n",
       "      <td>6.411079</td>\n",
       "      <td>0.0</td>\n",
       "      <td>1.0</td>\n",
       "      <td>12.80</td>\n",
       "      <td>2.5</td>\n",
       "      <td>0.0</td>\n",
       "    </tr>\n",
       "    <tr>\n",
       "      <th>4</th>\n",
       "      <td>1</td>\n",
       "      <td>2023-06-29 22:03:32</td>\n",
       "      <td>2023-06-29 22:22:22</td>\n",
       "      <td>3.0</td>\n",
       "      <td>1.10</td>\n",
       "      <td>1.0</td>\n",
       "      <td>N</td>\n",
       "      <td>203</td>\n",
       "      <td>52</td>\n",
       "      <td>Credit Card</td>\n",
       "      <td>1.0</td>\n",
       "      <td>4.769377</td>\n",
       "      <td>0.0</td>\n",
       "      <td>1.0</td>\n",
       "      <td>18.00</td>\n",
       "      <td>2.5</td>\n",
       "      <td>0.0</td>\n",
       "    </tr>\n",
       "  </tbody>\n",
       "</table>\n",
       "</div>"
      ],
      "text/plain": [
       "   VendorID tpep_pickup_datetime tpep_dropoff_datetime  passenger_count  \\\n",
       "0         1  2023-06-28 17:20:21   2023-06-28 16:34:45              1.0   \n",
       "1         0  2023-06-29 23:05:01   2023-06-29 22:01:35              1.0   \n",
       "2         1  2023-06-30 10:19:31   2023-06-30 11:13:10              1.0   \n",
       "3         0  2023-06-29 13:23:09   2023-06-29 14:20:01              1.0   \n",
       "4         1  2023-06-29 22:03:32   2023-06-29 22:22:22              3.0   \n",
       "\n",
       "   trip_distance  RatecodeID store_and_fwd_flag  PULocationID  DOLocationID  \\\n",
       "0           2.14         1.0                  N           120             9   \n",
       "1           2.70         1.0                  N            15           215   \n",
       "2           1.15         1.0                  N           167           223   \n",
       "3           0.40         1.0                  N           128           239   \n",
       "4           1.10         1.0                  N           203            52   \n",
       "\n",
       "  payment_type  extra  tip_amount  tolls_amount  improvement_surcharge  \\\n",
       "0  Credit Card    2.5    7.165589           0.0                    1.0   \n",
       "1  Credit Card    3.5    6.067401           0.0                    1.0   \n",
       "2  Credit Card    0.0    4.111547           0.0                    1.0   \n",
       "3  Credit Card    2.5    6.411079           0.0                    1.0   \n",
       "4  Credit Card    1.0    4.769377           0.0                    1.0   \n",
       "\n",
       "   total_amount  congestion_surcharge  Airport_fee  \n",
       "0         20.64                   2.5          0.0  \n",
       "1         25.55                   2.5          0.0  \n",
       "2         17.64                   2.5          0.0  \n",
       "3         12.80                   2.5          0.0  \n",
       "4         18.00                   2.5          0.0  "
      ]
     },
     "execution_count": 2,
     "metadata": {},
     "output_type": "execute_result"
    }
   ],
   "source": [
    "train = pd.read_csv('/kaggle/input/taxi-fare-guru-total-amount-prediction-challenge/train.csv')\n",
    "train.head()"
   ]
  },
  {
   "cell_type": "code",
   "execution_count": 3,
   "id": "29228163",
   "metadata": {
    "execution": {
     "iopub.execute_input": "2023-12-09T09:46:18.941953Z",
     "iopub.status.busy": "2023-12-09T09:46:18.940997Z",
     "iopub.status.idle": "2023-12-09T09:46:18.948099Z",
     "shell.execute_reply": "2023-12-09T09:46:18.946522Z"
    },
    "papermill": {
     "duration": 0.027912,
     "end_time": "2023-12-09T09:46:18.950761",
     "exception": false,
     "start_time": "2023-12-09T09:46:18.922849",
     "status": "completed"
    },
    "tags": []
   },
   "outputs": [
    {
     "data": {
      "text/plain": [
       "(175000, 17)"
      ]
     },
     "execution_count": 3,
     "metadata": {},
     "output_type": "execute_result"
    }
   ],
   "source": [
    "train.shape"
   ]
  },
  {
   "cell_type": "code",
   "execution_count": 4,
   "id": "3daa4e23",
   "metadata": {
    "execution": {
     "iopub.execute_input": "2023-12-09T09:46:18.987049Z",
     "iopub.status.busy": "2023-12-09T09:46:18.986645Z",
     "iopub.status.idle": "2023-12-09T09:46:19.004739Z",
     "shell.execute_reply": "2023-12-09T09:46:19.003275Z"
    },
    "papermill": {
     "duration": 0.039541,
     "end_time": "2023-12-09T09:46:19.007621",
     "exception": false,
     "start_time": "2023-12-09T09:46:18.968080",
     "status": "completed"
    },
    "tags": []
   },
   "outputs": [
    {
     "data": {
      "text/html": [
       "<div>\n",
       "<style scoped>\n",
       "    .dataframe tbody tr th:only-of-type {\n",
       "        vertical-align: middle;\n",
       "    }\n",
       "\n",
       "    .dataframe tbody tr th {\n",
       "        vertical-align: top;\n",
       "    }\n",
       "\n",
       "    .dataframe thead th {\n",
       "        text-align: right;\n",
       "    }\n",
       "</style>\n",
       "<table border=\"1\" class=\"dataframe\">\n",
       "  <thead>\n",
       "    <tr style=\"text-align: right;\">\n",
       "      <th></th>\n",
       "      <th>ID</th>\n",
       "      <th>total_amount</th>\n",
       "    </tr>\n",
       "  </thead>\n",
       "  <tbody>\n",
       "    <tr>\n",
       "      <th>0</th>\n",
       "      <td>1</td>\n",
       "      <td>24.456348</td>\n",
       "    </tr>\n",
       "    <tr>\n",
       "      <th>1</th>\n",
       "      <td>2</td>\n",
       "      <td>24.374058</td>\n",
       "    </tr>\n",
       "    <tr>\n",
       "      <th>2</th>\n",
       "      <td>3</td>\n",
       "      <td>19.878154</td>\n",
       "    </tr>\n",
       "    <tr>\n",
       "      <th>3</th>\n",
       "      <td>4</td>\n",
       "      <td>25.015569</td>\n",
       "    </tr>\n",
       "    <tr>\n",
       "      <th>4</th>\n",
       "      <td>5</td>\n",
       "      <td>22.252489</td>\n",
       "    </tr>\n",
       "  </tbody>\n",
       "</table>\n",
       "</div>"
      ],
      "text/plain": [
       "   ID  total_amount\n",
       "0   1     24.456348\n",
       "1   2     24.374058\n",
       "2   3     19.878154\n",
       "3   4     25.015569\n",
       "4   5     22.252489"
      ]
     },
     "execution_count": 4,
     "metadata": {},
     "output_type": "execute_result"
    }
   ],
   "source": [
    "sample_data = pd.read_csv('/kaggle/input/taxi-fare-guru-total-amount-prediction-challenge/sample.csv.csv')\n",
    "sample_data.head()"
   ]
  },
  {
   "cell_type": "code",
   "execution_count": 5,
   "id": "9763fa42",
   "metadata": {
    "execution": {
     "iopub.execute_input": "2023-12-09T09:46:19.045238Z",
     "iopub.status.busy": "2023-12-09T09:46:19.044333Z",
     "iopub.status.idle": "2023-12-09T09:46:19.219917Z",
     "shell.execute_reply": "2023-12-09T09:46:19.217869Z"
    },
    "papermill": {
     "duration": 0.19698,
     "end_time": "2023-12-09T09:46:19.222287",
     "exception": false,
     "start_time": "2023-12-09T09:46:19.025307",
     "status": "completed"
    },
    "tags": []
   },
   "outputs": [
    {
     "data": {
      "text/html": [
       "<div>\n",
       "<style scoped>\n",
       "    .dataframe tbody tr th:only-of-type {\n",
       "        vertical-align: middle;\n",
       "    }\n",
       "\n",
       "    .dataframe tbody tr th {\n",
       "        vertical-align: top;\n",
       "    }\n",
       "\n",
       "    .dataframe thead th {\n",
       "        text-align: right;\n",
       "    }\n",
       "</style>\n",
       "<table border=\"1\" class=\"dataframe\">\n",
       "  <thead>\n",
       "    <tr style=\"text-align: right;\">\n",
       "      <th></th>\n",
       "      <th>VendorID</th>\n",
       "      <th>tpep_pickup_datetime</th>\n",
       "      <th>tpep_dropoff_datetime</th>\n",
       "      <th>passenger_count</th>\n",
       "      <th>trip_distance</th>\n",
       "      <th>RatecodeID</th>\n",
       "      <th>store_and_fwd_flag</th>\n",
       "      <th>PULocationID</th>\n",
       "      <th>DOLocationID</th>\n",
       "      <th>payment_type</th>\n",
       "      <th>extra</th>\n",
       "      <th>tip_amount</th>\n",
       "      <th>tolls_amount</th>\n",
       "      <th>improvement_surcharge</th>\n",
       "      <th>congestion_surcharge</th>\n",
       "      <th>Airport_fee</th>\n",
       "    </tr>\n",
       "  </thead>\n",
       "  <tbody>\n",
       "    <tr>\n",
       "      <th>0</th>\n",
       "      <td>1</td>\n",
       "      <td>2023-06-29 00:21:20</td>\n",
       "      <td>2023-06-29 00:25:20</td>\n",
       "      <td>1.0</td>\n",
       "      <td>4.95</td>\n",
       "      <td>1.0</td>\n",
       "      <td>N</td>\n",
       "      <td>20</td>\n",
       "      <td>3</td>\n",
       "      <td>Credit Card</td>\n",
       "      <td>1.0</td>\n",
       "      <td>6.067612</td>\n",
       "      <td>0.0</td>\n",
       "      <td>1.0</td>\n",
       "      <td>2.5</td>\n",
       "      <td>0.0</td>\n",
       "    </tr>\n",
       "    <tr>\n",
       "      <th>1</th>\n",
       "      <td>1</td>\n",
       "      <td>2023-06-30 17:44:43</td>\n",
       "      <td>2023-06-30 17:53:13</td>\n",
       "      <td>1.0</td>\n",
       "      <td>2.10</td>\n",
       "      <td>1.0</td>\n",
       "      <td>N</td>\n",
       "      <td>9</td>\n",
       "      <td>81</td>\n",
       "      <td>Credit Card</td>\n",
       "      <td>2.5</td>\n",
       "      <td>6.191269</td>\n",
       "      <td>0.0</td>\n",
       "      <td>1.0</td>\n",
       "      <td>2.5</td>\n",
       "      <td>0.0</td>\n",
       "    </tr>\n",
       "    <tr>\n",
       "      <th>2</th>\n",
       "      <td>1</td>\n",
       "      <td>2023-06-29 18:17:04</td>\n",
       "      <td>2023-06-29 19:23:48</td>\n",
       "      <td>1.0</td>\n",
       "      <td>0.95</td>\n",
       "      <td>1.0</td>\n",
       "      <td>N</td>\n",
       "      <td>92</td>\n",
       "      <td>90</td>\n",
       "      <td>Cash</td>\n",
       "      <td>2.5</td>\n",
       "      <td>3.983872</td>\n",
       "      <td>0.0</td>\n",
       "      <td>1.0</td>\n",
       "      <td>2.5</td>\n",
       "      <td>0.0</td>\n",
       "    </tr>\n",
       "    <tr>\n",
       "      <th>3</th>\n",
       "      <td>0</td>\n",
       "      <td>2023-06-30 21:33:53</td>\n",
       "      <td>2023-06-30 21:46:20</td>\n",
       "      <td>1.0</td>\n",
       "      <td>0.80</td>\n",
       "      <td>1.0</td>\n",
       "      <td>N</td>\n",
       "      <td>19</td>\n",
       "      <td>102</td>\n",
       "      <td>Credit Card</td>\n",
       "      <td>3.5</td>\n",
       "      <td>6.839341</td>\n",
       "      <td>0.0</td>\n",
       "      <td>1.0</td>\n",
       "      <td>2.5</td>\n",
       "      <td>0.0</td>\n",
       "    </tr>\n",
       "    <tr>\n",
       "      <th>4</th>\n",
       "      <td>1</td>\n",
       "      <td>2023-06-29 14:53:54</td>\n",
       "      <td>2023-06-29 15:22:17</td>\n",
       "      <td>1.0</td>\n",
       "      <td>4.01</td>\n",
       "      <td>1.0</td>\n",
       "      <td>N</td>\n",
       "      <td>131</td>\n",
       "      <td>229</td>\n",
       "      <td>Cash</td>\n",
       "      <td>0.0</td>\n",
       "      <td>1.468943</td>\n",
       "      <td>0.0</td>\n",
       "      <td>1.0</td>\n",
       "      <td>0.0</td>\n",
       "      <td>0.0</td>\n",
       "    </tr>\n",
       "  </tbody>\n",
       "</table>\n",
       "</div>"
      ],
      "text/plain": [
       "   VendorID tpep_pickup_datetime tpep_dropoff_datetime  passenger_count  \\\n",
       "0         1  2023-06-29 00:21:20   2023-06-29 00:25:20              1.0   \n",
       "1         1  2023-06-30 17:44:43   2023-06-30 17:53:13              1.0   \n",
       "2         1  2023-06-29 18:17:04   2023-06-29 19:23:48              1.0   \n",
       "3         0  2023-06-30 21:33:53   2023-06-30 21:46:20              1.0   \n",
       "4         1  2023-06-29 14:53:54   2023-06-29 15:22:17              1.0   \n",
       "\n",
       "   trip_distance  RatecodeID store_and_fwd_flag  PULocationID  DOLocationID  \\\n",
       "0           4.95         1.0                  N            20             3   \n",
       "1           2.10         1.0                  N             9            81   \n",
       "2           0.95         1.0                  N            92            90   \n",
       "3           0.80         1.0                  N            19           102   \n",
       "4           4.01         1.0                  N           131           229   \n",
       "\n",
       "  payment_type  extra  tip_amount  tolls_amount  improvement_surcharge  \\\n",
       "0  Credit Card    1.0    6.067612           0.0                    1.0   \n",
       "1  Credit Card    2.5    6.191269           0.0                    1.0   \n",
       "2         Cash    2.5    3.983872           0.0                    1.0   \n",
       "3  Credit Card    3.5    6.839341           0.0                    1.0   \n",
       "4         Cash    0.0    1.468943           0.0                    1.0   \n",
       "\n",
       "   congestion_surcharge  Airport_fee  \n",
       "0                   2.5          0.0  \n",
       "1                   2.5          0.0  \n",
       "2                   2.5          0.0  \n",
       "3                   2.5          0.0  \n",
       "4                   0.0          0.0  "
      ]
     },
     "execution_count": 5,
     "metadata": {},
     "output_type": "execute_result"
    }
   ],
   "source": [
    "test = pd.read_csv('/kaggle/input/taxi-fare-guru-total-amount-prediction-challenge/test.csv')\n",
    "test.head()"
   ]
  },
  {
   "cell_type": "code",
   "execution_count": 6,
   "id": "40a2e5a1",
   "metadata": {
    "execution": {
     "iopub.execute_input": "2023-12-09T09:46:19.311612Z",
     "iopub.status.busy": "2023-12-09T09:46:19.310922Z",
     "iopub.status.idle": "2023-12-09T09:46:19.316968Z",
     "shell.execute_reply": "2023-12-09T09:46:19.316369Z"
    },
    "papermill": {
     "duration": 0.078972,
     "end_time": "2023-12-09T09:46:19.318545",
     "exception": false,
     "start_time": "2023-12-09T09:46:19.239573",
     "status": "completed"
    },
    "tags": []
   },
   "outputs": [
    {
     "data": {
      "text/plain": [
       "VendorID                   int64\n",
       "tpep_pickup_datetime      object\n",
       "tpep_dropoff_datetime     object\n",
       "passenger_count          float64\n",
       "trip_distance            float64\n",
       "RatecodeID               float64\n",
       "store_and_fwd_flag        object\n",
       "PULocationID               int64\n",
       "DOLocationID               int64\n",
       "payment_type              object\n",
       "extra                    float64\n",
       "tip_amount               float64\n",
       "tolls_amount             float64\n",
       "improvement_surcharge    float64\n",
       "total_amount             float64\n",
       "congestion_surcharge     float64\n",
       "Airport_fee              float64\n",
       "dtype: object"
      ]
     },
     "execution_count": 6,
     "metadata": {},
     "output_type": "execute_result"
    }
   ],
   "source": [
    "train.dtypes"
   ]
  },
  {
   "cell_type": "markdown",
   "id": "262f41be",
   "metadata": {
    "papermill": {
     "duration": 0.01709,
     "end_time": "2023-12-09T09:46:19.353057",
     "exception": false,
     "start_time": "2023-12-09T09:46:19.335967",
     "status": "completed"
    },
    "tags": []
   },
   "source": [
    "Dividing features and Labels:"
   ]
  },
  {
   "cell_type": "code",
   "execution_count": 7,
   "id": "29efdb34",
   "metadata": {
    "execution": {
     "iopub.execute_input": "2023-12-09T09:46:19.390312Z",
     "iopub.status.busy": "2023-12-09T09:46:19.389774Z",
     "iopub.status.idle": "2023-12-09T09:46:19.410868Z",
     "shell.execute_reply": "2023-12-09T09:46:19.410118Z"
    },
    "papermill": {
     "duration": 0.041945,
     "end_time": "2023-12-09T09:46:19.413119",
     "exception": false,
     "start_time": "2023-12-09T09:46:19.371174",
     "status": "completed"
    },
    "tags": []
   },
   "outputs": [],
   "source": [
    "X = train.drop(columns=['total_amount'])\n",
    "y = train['total_amount']"
   ]
  },
  {
   "cell_type": "markdown",
   "id": "e529d655",
   "metadata": {
    "papermill": {
     "duration": 0.016306,
     "end_time": "2023-12-09T09:46:19.447179",
     "exception": false,
     "start_time": "2023-12-09T09:46:19.430873",
     "status": "completed"
    },
    "tags": []
   },
   "source": [
    "Converting Datetime columns to useful data:"
   ]
  },
  {
   "cell_type": "code",
   "execution_count": 8,
   "id": "44e6087e",
   "metadata": {
    "execution": {
     "iopub.execute_input": "2023-12-09T09:46:19.482369Z",
     "iopub.status.busy": "2023-12-09T09:46:19.482043Z",
     "iopub.status.idle": "2023-12-09T09:46:19.593118Z",
     "shell.execute_reply": "2023-12-09T09:46:19.592165Z"
    },
    "papermill": {
     "duration": 0.131725,
     "end_time": "2023-12-09T09:46:19.595545",
     "exception": false,
     "start_time": "2023-12-09T09:46:19.463820",
     "status": "completed"
    },
    "tags": []
   },
   "outputs": [],
   "source": [
    "X['travel_time'] = ((pd.to_datetime(X['tpep_dropoff_datetime'])- pd.to_datetime(X['tpep_pickup_datetime'])).dt.seconds)/60\n",
    "X = X.drop(columns = ['tpep_dropoff_datetime','tpep_pickup_datetime'])"
   ]
  },
  {
   "cell_type": "code",
   "execution_count": 9,
   "id": "cfa655a4",
   "metadata": {
    "execution": {
     "iopub.execute_input": "2023-12-09T09:46:19.632341Z",
     "iopub.status.busy": "2023-12-09T09:46:19.631927Z",
     "iopub.status.idle": "2023-12-09T09:46:19.668142Z",
     "shell.execute_reply": "2023-12-09T09:46:19.667343Z"
    },
    "papermill": {
     "duration": 0.057238,
     "end_time": "2023-12-09T09:46:19.670223",
     "exception": false,
     "start_time": "2023-12-09T09:46:19.612985",
     "status": "completed"
    },
    "tags": []
   },
   "outputs": [],
   "source": [
    "test['travel_time'] = ((pd.to_datetime(test['tpep_dropoff_datetime'])- pd.to_datetime(test['tpep_pickup_datetime'])).dt.seconds)/60\n",
    "test = test.drop(columns = ['tpep_dropoff_datetime','tpep_pickup_datetime'])"
   ]
  },
  {
   "cell_type": "markdown",
   "id": "43c2ee83",
   "metadata": {
    "papermill": {
     "duration": 0.017486,
     "end_time": "2023-12-09T09:46:19.705835",
     "exception": false,
     "start_time": "2023-12-09T09:46:19.688349",
     "status": "completed"
    },
    "tags": []
   },
   "source": [
    "Handling Null Values:"
   ]
  },
  {
   "cell_type": "code",
   "execution_count": 10,
   "id": "5abbf88e",
   "metadata": {
    "execution": {
     "iopub.execute_input": "2023-12-09T09:46:19.742469Z",
     "iopub.status.busy": "2023-12-09T09:46:19.742133Z",
     "iopub.status.idle": "2023-12-09T09:46:19.761343Z",
     "shell.execute_reply": "2023-12-09T09:46:19.760496Z"
    },
    "papermill": {
     "duration": 0.040201,
     "end_time": "2023-12-09T09:46:19.763451",
     "exception": false,
     "start_time": "2023-12-09T09:46:19.723250",
     "status": "completed"
    },
    "tags": []
   },
   "outputs": [
    {
     "data": {
      "text/plain": [
       "VendorID                    0\n",
       "passenger_count          6077\n",
       "trip_distance               0\n",
       "RatecodeID               6077\n",
       "store_and_fwd_flag       6077\n",
       "PULocationID                0\n",
       "DOLocationID                0\n",
       "payment_type                0\n",
       "extra                       0\n",
       "tip_amount                  0\n",
       "tolls_amount                0\n",
       "improvement_surcharge       0\n",
       "congestion_surcharge     6077\n",
       "Airport_fee              6077\n",
       "travel_time                 0\n",
       "dtype: int64"
      ]
     },
     "execution_count": 10,
     "metadata": {},
     "output_type": "execute_result"
    }
   ],
   "source": [
    "X.isnull().sum()"
   ]
  },
  {
   "cell_type": "code",
   "execution_count": 11,
   "id": "de57dda5",
   "metadata": {
    "_kg_hide-input": true,
    "execution": {
     "iopub.execute_input": "2023-12-09T09:46:19.800424Z",
     "iopub.status.busy": "2023-12-09T09:46:19.800114Z",
     "iopub.status.idle": "2023-12-09T09:46:19.832463Z",
     "shell.execute_reply": "2023-12-09T09:46:19.831670Z"
    },
    "papermill": {
     "duration": 0.052983,
     "end_time": "2023-12-09T09:46:19.834345",
     "exception": false,
     "start_time": "2023-12-09T09:46:19.781362",
     "status": "completed"
    },
    "tags": []
   },
   "outputs": [
    {
     "name": "stdout",
     "output_type": "stream",
     "text": [
      "passenger_count\n",
      "1.0    128534\n",
      "2.0     24316\n",
      "3.0      6018\n",
      "4.0      3668\n",
      "0.0      2818\n",
      "5.0      1970\n",
      "6.0      1596\n",
      "8.0         2\n",
      "9.0         1\n",
      "Name: count, dtype: int64\n",
      "RatecodeID\n",
      "1.0     158652\n",
      "2.0       7314\n",
      "5.0       1036\n",
      "99.0       748\n",
      "3.0        727\n",
      "4.0        446\n",
      "Name: count, dtype: int64\n",
      "store_and_fwd_flag\n",
      "N    167729\n",
      "Y      1194\n",
      "Name: count, dtype: int64\n",
      "congestion_surcharge\n",
      " 2.5    153212\n",
      " 0.0     14325\n",
      "-2.5      1386\n",
      "Name: count, dtype: int64\n",
      "Airport_fee\n",
      " 0.00    153074\n",
      " 1.75     15590\n",
      "-1.75       259\n",
      "Name: count, dtype: int64\n",
      "VendorID\n",
      "1    127340\n",
      "0     47597\n",
      "2        63\n",
      "Name: count, dtype: int64\n"
     ]
    }
   ],
   "source": [
    "print(X['passenger_count'].value_counts())\n",
    "print(X['RatecodeID'].value_counts())\n",
    "print(X['store_and_fwd_flag'].value_counts())\n",
    "print(X['congestion_surcharge'].value_counts())\n",
    "print(X['Airport_fee'].value_counts())\n",
    "print(X['VendorID'].value_counts())"
   ]
  },
  {
   "cell_type": "markdown",
   "id": "ac451e3e",
   "metadata": {
    "papermill": {
     "duration": 0.017355,
     "end_time": "2023-12-09T09:46:19.870873",
     "exception": false,
     "start_time": "2023-12-09T09:46:19.853518",
     "status": "completed"
    },
    "tags": []
   },
   "source": [
    "Replace missing or unknown values with the most frequent category for categorical values:"
   ]
  },
  {
   "cell_type": "code",
   "execution_count": 12,
   "id": "660b8a06",
   "metadata": {
    "execution": {
     "iopub.execute_input": "2023-12-09T09:46:19.908069Z",
     "iopub.status.busy": "2023-12-09T09:46:19.907259Z",
     "iopub.status.idle": "2023-12-09T09:46:19.931736Z",
     "shell.execute_reply": "2023-12-09T09:46:19.930766Z"
    },
    "papermill": {
     "duration": 0.045311,
     "end_time": "2023-12-09T09:46:19.933922",
     "exception": false,
     "start_time": "2023-12-09T09:46:19.888611",
     "status": "completed"
    },
    "tags": []
   },
   "outputs": [],
   "source": [
    "freq1 = X['store_and_fwd_flag'].value_counts()\n",
    "most_freq1 = freq1[freq1 == freq1.max()].index\n",
    "max_val1 = most_freq1[0]\n",
    "X['store_and_fwd_flag'].fillna(max_val1, inplace=True)\n",
    "\n",
    "freq2 = test['store_and_fwd_flag'].value_counts()\n",
    "most_freq2 = freq2[freq2 == freq2.max()].index\n",
    "max_val2 = most_freq2[0]\n",
    "test['store_and_fwd_flag'].fillna(max_val2, inplace=True)"
   ]
  },
  {
   "cell_type": "code",
   "execution_count": 13,
   "id": "b69569c9",
   "metadata": {
    "execution": {
     "iopub.execute_input": "2023-12-09T09:46:19.969708Z",
     "iopub.status.busy": "2023-12-09T09:46:19.969381Z",
     "iopub.status.idle": "2023-12-09T09:46:19.984912Z",
     "shell.execute_reply": "2023-12-09T09:46:19.984094Z"
    },
    "papermill": {
     "duration": 0.035481,
     "end_time": "2023-12-09T09:46:19.986549",
     "exception": false,
     "start_time": "2023-12-09T09:46:19.951068",
     "status": "completed"
    },
    "tags": []
   },
   "outputs": [
    {
     "data": {
      "text/plain": [
       "payment_type\n",
       "Credit Card    135257\n",
       "Cash            30141\n",
       "Wallet           6077\n",
       "unknown          2333\n",
       "UPI              1192\n",
       "Name: count, dtype: int64"
      ]
     },
     "execution_count": 13,
     "metadata": {},
     "output_type": "execute_result"
    }
   ],
   "source": [
    "X['payment_type'].value_counts()"
   ]
  },
  {
   "cell_type": "markdown",
   "id": "9b728dfd",
   "metadata": {
    "papermill": {
     "duration": 0.018285,
     "end_time": "2023-12-09T09:46:20.023206",
     "exception": false,
     "start_time": "2023-12-09T09:46:20.004921",
     "status": "completed"
    },
    "tags": []
   },
   "source": [
    "Replacing with 'unknown' values with the most frequent values:"
   ]
  },
  {
   "cell_type": "code",
   "execution_count": 14,
   "id": "fcbddf8a",
   "metadata": {
    "execution": {
     "iopub.execute_input": "2023-12-09T09:46:20.060462Z",
     "iopub.status.busy": "2023-12-09T09:46:20.060119Z",
     "iopub.status.idle": "2023-12-09T09:46:20.092611Z",
     "shell.execute_reply": "2023-12-09T09:46:20.091492Z"
    },
    "papermill": {
     "duration": 0.054058,
     "end_time": "2023-12-09T09:46:20.094887",
     "exception": false,
     "start_time": "2023-12-09T09:46:20.040829",
     "status": "completed"
    },
    "tags": []
   },
   "outputs": [],
   "source": [
    "freq3 = X['payment_type'].value_counts()\n",
    "most_freq3 = freq3[freq3 == freq3.max()].index\n",
    "max_val3 = most_freq3[0]\n",
    "X['payment_type'].replace('unknown', max_val3, inplace = True)\n",
    "\n",
    "freq4 = test['payment_type'].value_counts()\n",
    "most_freq4 = freq4[freq4 == freq4.max()].index\n",
    "max_val4 = most_freq4[0]\n",
    "test['payment_type'].replace('unknown', max_val4, inplace = True)"
   ]
  },
  {
   "cell_type": "markdown",
   "id": "b6ed3719",
   "metadata": {
    "papermill": {
     "duration": 0.017424,
     "end_time": "2023-12-09T09:46:20.130008",
     "exception": false,
     "start_time": "2023-12-09T09:46:20.112584",
     "status": "completed"
    },
    "tags": []
   },
   "source": [
    "Imputing null values with mean of the numerical columns:"
   ]
  },
  {
   "cell_type": "code",
   "execution_count": 15,
   "id": "370dd6c7",
   "metadata": {
    "execution": {
     "iopub.execute_input": "2023-12-09T09:46:20.167071Z",
     "iopub.status.busy": "2023-12-09T09:46:20.166754Z",
     "iopub.status.idle": "2023-12-09T09:46:21.624665Z",
     "shell.execute_reply": "2023-12-09T09:46:21.623655Z"
    },
    "papermill": {
     "duration": 1.479219,
     "end_time": "2023-12-09T09:46:21.626945",
     "exception": false,
     "start_time": "2023-12-09T09:46:20.147726",
     "status": "completed"
    },
    "tags": []
   },
   "outputs": [],
   "source": [
    "from sklearn.impute import SimpleImputer\n",
    "cols = ['passenger_count', 'trip_distance', 'RatecodeID', 'extra', 'tip_amount', 'tolls_amount', 'improvement_surcharge', 'congestion_surcharge', 'Airport_fee']\n",
    "imputer = SimpleImputer(strategy='mean')\n",
    "X[cols] = imputer.fit_transform(X[cols])"
   ]
  },
  {
   "cell_type": "code",
   "execution_count": 16,
   "id": "7922f8de",
   "metadata": {
    "execution": {
     "iopub.execute_input": "2023-12-09T09:46:21.664492Z",
     "iopub.status.busy": "2023-12-09T09:46:21.664118Z",
     "iopub.status.idle": "2023-12-09T09:46:21.682577Z",
     "shell.execute_reply": "2023-12-09T09:46:21.681587Z"
    },
    "papermill": {
     "duration": 0.040431,
     "end_time": "2023-12-09T09:46:21.685112",
     "exception": false,
     "start_time": "2023-12-09T09:46:21.644681",
     "status": "completed"
    },
    "tags": []
   },
   "outputs": [],
   "source": [
    "test_cols = ['passenger_count', 'trip_distance', 'RatecodeID', 'extra', 'tip_amount', 'tolls_amount', 'improvement_surcharge', 'congestion_surcharge', 'Airport_fee']\n",
    "test[test_cols] = imputer.fit_transform(test[test_cols])"
   ]
  },
  {
   "cell_type": "code",
   "execution_count": 17,
   "id": "8a5dbe2a",
   "metadata": {
    "execution": {
     "iopub.execute_input": "2023-12-09T09:46:21.723644Z",
     "iopub.status.busy": "2023-12-09T09:46:21.722467Z",
     "iopub.status.idle": "2023-12-09T09:46:21.727615Z",
     "shell.execute_reply": "2023-12-09T09:46:21.726530Z"
    },
    "papermill": {
     "duration": 0.026522,
     "end_time": "2023-12-09T09:46:21.729462",
     "exception": false,
     "start_time": "2023-12-09T09:46:21.702940",
     "status": "completed"
    },
    "tags": []
   },
   "outputs": [],
   "source": [
    "#df['passenger_count'] = df['passenger_count'].fillna(df['passenger_count'].mean())\n",
    "#df['RatecodeID'] = df['RatecodeID'].fillna(df['RatecodeID'].mean())\n",
    "#df['store_and_fwd_flag'] = df['store_and_fwd_flag'].fillna(df['store_and_fwd_flag'].mode()[0])\n",
    "#df['congestion_surcharge'] = df['congestion_surcharge'].fillna(df['congestion_surcharge'].mean())\n",
    "#df['Airport_fee'] = df['Airport_fee'].fillna(df['Airport_fee'].mean())"
   ]
  },
  {
   "cell_type": "code",
   "execution_count": 18,
   "id": "058065cd",
   "metadata": {
    "execution": {
     "iopub.execute_input": "2023-12-09T09:46:21.766182Z",
     "iopub.status.busy": "2023-12-09T09:46:21.765277Z",
     "iopub.status.idle": "2023-12-09T09:46:21.786021Z",
     "shell.execute_reply": "2023-12-09T09:46:21.785076Z"
    },
    "papermill": {
     "duration": 0.041087,
     "end_time": "2023-12-09T09:46:21.787880",
     "exception": false,
     "start_time": "2023-12-09T09:46:21.746793",
     "status": "completed"
    },
    "tags": []
   },
   "outputs": [
    {
     "data": {
      "text/plain": [
       "VendorID                 0\n",
       "passenger_count          0\n",
       "trip_distance            0\n",
       "RatecodeID               0\n",
       "store_and_fwd_flag       0\n",
       "PULocationID             0\n",
       "DOLocationID             0\n",
       "payment_type             0\n",
       "extra                    0\n",
       "tip_amount               0\n",
       "tolls_amount             0\n",
       "improvement_surcharge    0\n",
       "congestion_surcharge     0\n",
       "Airport_fee              0\n",
       "travel_time              0\n",
       "dtype: int64"
      ]
     },
     "execution_count": 18,
     "metadata": {},
     "output_type": "execute_result"
    }
   ],
   "source": [
    "X.isna().sum()"
   ]
  },
  {
   "cell_type": "code",
   "execution_count": 19,
   "id": "c6938150",
   "metadata": {
    "execution": {
     "iopub.execute_input": "2023-12-09T09:46:21.824162Z",
     "iopub.status.busy": "2023-12-09T09:46:21.823816Z",
     "iopub.status.idle": "2023-12-09T09:46:21.835768Z",
     "shell.execute_reply": "2023-12-09T09:46:21.834987Z"
    },
    "papermill": {
     "duration": 0.032159,
     "end_time": "2023-12-09T09:46:21.837561",
     "exception": false,
     "start_time": "2023-12-09T09:46:21.805402",
     "status": "completed"
    },
    "tags": []
   },
   "outputs": [
    {
     "data": {
      "text/plain": [
       "VendorID                 0\n",
       "passenger_count          0\n",
       "trip_distance            0\n",
       "RatecodeID               0\n",
       "store_and_fwd_flag       0\n",
       "PULocationID             0\n",
       "DOLocationID             0\n",
       "payment_type             0\n",
       "extra                    0\n",
       "tip_amount               0\n",
       "tolls_amount             0\n",
       "improvement_surcharge    0\n",
       "congestion_surcharge     0\n",
       "Airport_fee              0\n",
       "travel_time              0\n",
       "dtype: int64"
      ]
     },
     "execution_count": 19,
     "metadata": {},
     "output_type": "execute_result"
    }
   ],
   "source": [
    "test.isna().sum()"
   ]
  },
  {
   "cell_type": "markdown",
   "id": "2a0af794",
   "metadata": {
    "papermill": {
     "duration": 0.01831,
     "end_time": "2023-12-09T09:46:21.875491",
     "exception": false,
     "start_time": "2023-12-09T09:46:21.857181",
     "status": "completed"
    },
    "tags": []
   },
   "source": [
    "Encoding categorical columns using One-hot Encoding:"
   ]
  },
  {
   "cell_type": "code",
   "execution_count": 20,
   "id": "74c9ba31",
   "metadata": {
    "execution": {
     "iopub.execute_input": "2023-12-09T09:46:21.913626Z",
     "iopub.status.busy": "2023-12-09T09:46:21.913111Z",
     "iopub.status.idle": "2023-12-09T09:46:21.972297Z",
     "shell.execute_reply": "2023-12-09T09:46:21.971326Z"
    },
    "papermill": {
     "duration": 0.080946,
     "end_time": "2023-12-09T09:46:21.974770",
     "exception": false,
     "start_time": "2023-12-09T09:46:21.893824",
     "status": "completed"
    },
    "tags": []
   },
   "outputs": [],
   "source": [
    "from sklearn.preprocessing import OneHotEncoder\n",
    "encoder = OneHotEncoder(sparse_output=False)\n",
    "\n",
    "encoded = encoder.fit_transform(X[['store_and_fwd_flag']])\n",
    "encoded_df = pd.DataFrame(encoded, columns=encoder.get_feature_names_out(['store_and_fwd_flag']))\n",
    "X = pd.concat([X, encoded_df], axis=1)"
   ]
  },
  {
   "cell_type": "code",
   "execution_count": 21,
   "id": "49dfaca5",
   "metadata": {
    "execution": {
     "iopub.execute_input": "2023-12-09T09:46:22.013196Z",
     "iopub.status.busy": "2023-12-09T09:46:22.012875Z",
     "iopub.status.idle": "2023-12-09T09:46:22.034768Z",
     "shell.execute_reply": "2023-12-09T09:46:22.033757Z"
    },
    "papermill": {
     "duration": 0.043755,
     "end_time": "2023-12-09T09:46:22.036407",
     "exception": false,
     "start_time": "2023-12-09T09:46:21.992652",
     "status": "completed"
    },
    "tags": []
   },
   "outputs": [],
   "source": [
    "encoded = encoder.fit_transform(test[['store_and_fwd_flag']])\n",
    "encoded_df = pd.DataFrame(encoded, columns=encoder.get_feature_names_out(['store_and_fwd_flag']))\n",
    "test = pd.concat([test, encoded_df], axis=1)"
   ]
  },
  {
   "cell_type": "code",
   "execution_count": 22,
   "id": "86855617",
   "metadata": {
    "execution": {
     "iopub.execute_input": "2023-12-09T09:46:22.073380Z",
     "iopub.status.busy": "2023-12-09T09:46:22.072540Z",
     "iopub.status.idle": "2023-12-09T09:46:22.149318Z",
     "shell.execute_reply": "2023-12-09T09:46:22.148264Z"
    },
    "papermill": {
     "duration": 0.097497,
     "end_time": "2023-12-09T09:46:22.151586",
     "exception": false,
     "start_time": "2023-12-09T09:46:22.054089",
     "status": "completed"
    },
    "tags": []
   },
   "outputs": [],
   "source": [
    "encoded = encoder.fit_transform(X[['payment_type']])\n",
    "encoded_df = pd.DataFrame(encoded, columns=encoder.get_feature_names_out(['payment_type']))\n",
    "X = pd.concat([X, encoded_df], axis=1)\n",
    "\n",
    "encoded = encoder.fit_transform(test[['payment_type']])\n",
    "encoded_df = pd.DataFrame(encoded, columns=encoder.get_feature_names_out(['payment_type']))\n",
    "test = pd.concat([test, encoded_df], axis=1)"
   ]
  },
  {
   "cell_type": "code",
   "execution_count": 23,
   "id": "105d31bd",
   "metadata": {
    "execution": {
     "iopub.execute_input": "2023-12-09T09:46:22.189296Z",
     "iopub.status.busy": "2023-12-09T09:46:22.188947Z",
     "iopub.status.idle": "2023-12-09T09:46:22.220644Z",
     "shell.execute_reply": "2023-12-09T09:46:22.219776Z"
    },
    "papermill": {
     "duration": 0.053148,
     "end_time": "2023-12-09T09:46:22.223060",
     "exception": false,
     "start_time": "2023-12-09T09:46:22.169912",
     "status": "completed"
    },
    "tags": []
   },
   "outputs": [],
   "source": [
    "encoded = encoder.fit_transform(X[['VendorID']])\n",
    "encoded_df = pd.DataFrame(encoded, columns=encoder.get_feature_names_out(['VendorID']))\n",
    "X = pd.concat([X, encoded_df], axis=1)\n",
    "\n",
    "encoded = encoder.fit_transform(test[['VendorID']])\n",
    "encoded_df = pd.DataFrame(encoded, columns=encoder.get_feature_names_out(['VendorID']))\n",
    "test = pd.concat([test, encoded_df], axis=1)"
   ]
  },
  {
   "cell_type": "code",
   "execution_count": 24,
   "id": "d57e91bf",
   "metadata": {
    "execution": {
     "iopub.execute_input": "2023-12-09T09:46:22.261378Z",
     "iopub.status.busy": "2023-12-09T09:46:22.261051Z",
     "iopub.status.idle": "2023-12-09T09:46:22.301711Z",
     "shell.execute_reply": "2023-12-09T09:46:22.300512Z"
    },
    "papermill": {
     "duration": 0.062292,
     "end_time": "2023-12-09T09:46:22.303822",
     "exception": false,
     "start_time": "2023-12-09T09:46:22.241530",
     "status": "completed"
    },
    "tags": []
   },
   "outputs": [],
   "source": [
    "encoded = encoder.fit_transform(X[['RatecodeID']])\n",
    "encoded_df = pd.DataFrame(encoded, columns=encoder.get_feature_names_out(['RatecodeID']))\n",
    "X = pd.concat([X, encoded_df], axis=1)\n",
    "\n",
    "encoded = encoder.fit_transform(test[['RatecodeID']])\n",
    "encoded_df = pd.DataFrame(encoded, columns=encoder.get_feature_names_out(['RatecodeID']))\n",
    "test = pd.concat([test, encoded_df], axis=1)"
   ]
  },
  {
   "cell_type": "code",
   "execution_count": 25,
   "id": "136eee3b",
   "metadata": {
    "execution": {
     "iopub.execute_input": "2023-12-09T09:46:22.340901Z",
     "iopub.status.busy": "2023-12-09T09:46:22.340589Z",
     "iopub.status.idle": "2023-12-09T09:46:22.357682Z",
     "shell.execute_reply": "2023-12-09T09:46:22.356301Z"
    },
    "papermill": {
     "duration": 0.037858,
     "end_time": "2023-12-09T09:46:22.359694",
     "exception": false,
     "start_time": "2023-12-09T09:46:22.321836",
     "status": "completed"
    },
    "tags": []
   },
   "outputs": [],
   "source": [
    "X = X.drop(columns=['payment_type','store_and_fwd_flag','VendorID','RatecodeID'])\n",
    "test = test.drop(columns=['payment_type','store_and_fwd_flag','VendorID','RatecodeID'])"
   ]
  },
  {
   "cell_type": "code",
   "execution_count": 26,
   "id": "39c3a152",
   "metadata": {
    "execution": {
     "iopub.execute_input": "2023-12-09T09:46:22.396245Z",
     "iopub.status.busy": "2023-12-09T09:46:22.395941Z",
     "iopub.status.idle": "2023-12-09T09:46:22.401729Z",
     "shell.execute_reply": "2023-12-09T09:46:22.401019Z"
    },
    "papermill": {
     "duration": 0.025877,
     "end_time": "2023-12-09T09:46:22.403270",
     "exception": false,
     "start_time": "2023-12-09T09:46:22.377393",
     "status": "completed"
    },
    "tags": []
   },
   "outputs": [],
   "source": [
    "#Matching the columns at Test and Train Datasets after One-Hot Oncoding:\n",
    "\n",
    "X['RatecodeID_1.5670143713319924'] = 0\n",
    "X['RatecodeID_6.0'] = 0\n",
    "test['RatecodeID_1.51830715769907'] = 0"
   ]
  },
  {
   "cell_type": "code",
   "execution_count": 27,
   "id": "9393dbcf",
   "metadata": {
    "execution": {
     "iopub.execute_input": "2023-12-09T09:46:22.439669Z",
     "iopub.status.busy": "2023-12-09T09:46:22.439326Z",
     "iopub.status.idle": "2023-12-09T09:46:22.446367Z",
     "shell.execute_reply": "2023-12-09T09:46:22.445474Z"
    },
    "papermill": {
     "duration": 0.027243,
     "end_time": "2023-12-09T09:46:22.447942",
     "exception": false,
     "start_time": "2023-12-09T09:46:22.420699",
     "status": "completed"
    },
    "tags": []
   },
   "outputs": [],
   "source": [
    "# Get the column order from the training dataset\n",
    "column_order = X.columns\n",
    "# Reorder the columns in the test dataset\n",
    "test = test[column_order]"
   ]
  },
  {
   "cell_type": "code",
   "execution_count": 28,
   "id": "70216735",
   "metadata": {
    "execution": {
     "iopub.execute_input": "2023-12-09T09:46:22.484139Z",
     "iopub.status.busy": "2023-12-09T09:46:22.483802Z",
     "iopub.status.idle": "2023-12-09T09:46:22.507308Z",
     "shell.execute_reply": "2023-12-09T09:46:22.506348Z"
    },
    "papermill": {
     "duration": 0.043765,
     "end_time": "2023-12-09T09:46:22.509233",
     "exception": false,
     "start_time": "2023-12-09T09:46:22.465468",
     "status": "completed"
    },
    "tags": []
   },
   "outputs": [
    {
     "data": {
      "text/html": [
       "<div>\n",
       "<style scoped>\n",
       "    .dataframe tbody tr th:only-of-type {\n",
       "        vertical-align: middle;\n",
       "    }\n",
       "\n",
       "    .dataframe tbody tr th {\n",
       "        vertical-align: top;\n",
       "    }\n",
       "\n",
       "    .dataframe thead th {\n",
       "        text-align: right;\n",
       "    }\n",
       "</style>\n",
       "<table border=\"1\" class=\"dataframe\">\n",
       "  <thead>\n",
       "    <tr style=\"text-align: right;\">\n",
       "      <th></th>\n",
       "      <th>passenger_count</th>\n",
       "      <th>trip_distance</th>\n",
       "      <th>PULocationID</th>\n",
       "      <th>DOLocationID</th>\n",
       "      <th>extra</th>\n",
       "      <th>tip_amount</th>\n",
       "      <th>tolls_amount</th>\n",
       "      <th>improvement_surcharge</th>\n",
       "      <th>congestion_surcharge</th>\n",
       "      <th>Airport_fee</th>\n",
       "      <th>...</th>\n",
       "      <th>VendorID_2</th>\n",
       "      <th>RatecodeID_1.0</th>\n",
       "      <th>RatecodeID_1.51830715769907</th>\n",
       "      <th>RatecodeID_2.0</th>\n",
       "      <th>RatecodeID_3.0</th>\n",
       "      <th>RatecodeID_4.0</th>\n",
       "      <th>RatecodeID_5.0</th>\n",
       "      <th>RatecodeID_99.0</th>\n",
       "      <th>RatecodeID_1.5670143713319924</th>\n",
       "      <th>RatecodeID_6.0</th>\n",
       "    </tr>\n",
       "  </thead>\n",
       "  <tbody>\n",
       "    <tr>\n",
       "      <th>0</th>\n",
       "      <td>1.0</td>\n",
       "      <td>2.14</td>\n",
       "      <td>120</td>\n",
       "      <td>9</td>\n",
       "      <td>2.5</td>\n",
       "      <td>7.165589</td>\n",
       "      <td>0.0</td>\n",
       "      <td>1.0</td>\n",
       "      <td>2.5</td>\n",
       "      <td>0.0</td>\n",
       "      <td>...</td>\n",
       "      <td>0.0</td>\n",
       "      <td>1.0</td>\n",
       "      <td>0.0</td>\n",
       "      <td>0.0</td>\n",
       "      <td>0.0</td>\n",
       "      <td>0.0</td>\n",
       "      <td>0.0</td>\n",
       "      <td>0.0</td>\n",
       "      <td>0</td>\n",
       "      <td>0</td>\n",
       "    </tr>\n",
       "    <tr>\n",
       "      <th>1</th>\n",
       "      <td>1.0</td>\n",
       "      <td>2.70</td>\n",
       "      <td>15</td>\n",
       "      <td>215</td>\n",
       "      <td>3.5</td>\n",
       "      <td>6.067401</td>\n",
       "      <td>0.0</td>\n",
       "      <td>1.0</td>\n",
       "      <td>2.5</td>\n",
       "      <td>0.0</td>\n",
       "      <td>...</td>\n",
       "      <td>0.0</td>\n",
       "      <td>1.0</td>\n",
       "      <td>0.0</td>\n",
       "      <td>0.0</td>\n",
       "      <td>0.0</td>\n",
       "      <td>0.0</td>\n",
       "      <td>0.0</td>\n",
       "      <td>0.0</td>\n",
       "      <td>0</td>\n",
       "      <td>0</td>\n",
       "    </tr>\n",
       "    <tr>\n",
       "      <th>2</th>\n",
       "      <td>1.0</td>\n",
       "      <td>1.15</td>\n",
       "      <td>167</td>\n",
       "      <td>223</td>\n",
       "      <td>0.0</td>\n",
       "      <td>4.111547</td>\n",
       "      <td>0.0</td>\n",
       "      <td>1.0</td>\n",
       "      <td>2.5</td>\n",
       "      <td>0.0</td>\n",
       "      <td>...</td>\n",
       "      <td>0.0</td>\n",
       "      <td>1.0</td>\n",
       "      <td>0.0</td>\n",
       "      <td>0.0</td>\n",
       "      <td>0.0</td>\n",
       "      <td>0.0</td>\n",
       "      <td>0.0</td>\n",
       "      <td>0.0</td>\n",
       "      <td>0</td>\n",
       "      <td>0</td>\n",
       "    </tr>\n",
       "    <tr>\n",
       "      <th>3</th>\n",
       "      <td>1.0</td>\n",
       "      <td>0.40</td>\n",
       "      <td>128</td>\n",
       "      <td>239</td>\n",
       "      <td>2.5</td>\n",
       "      <td>6.411079</td>\n",
       "      <td>0.0</td>\n",
       "      <td>1.0</td>\n",
       "      <td>2.5</td>\n",
       "      <td>0.0</td>\n",
       "      <td>...</td>\n",
       "      <td>0.0</td>\n",
       "      <td>1.0</td>\n",
       "      <td>0.0</td>\n",
       "      <td>0.0</td>\n",
       "      <td>0.0</td>\n",
       "      <td>0.0</td>\n",
       "      <td>0.0</td>\n",
       "      <td>0.0</td>\n",
       "      <td>0</td>\n",
       "      <td>0</td>\n",
       "    </tr>\n",
       "    <tr>\n",
       "      <th>4</th>\n",
       "      <td>3.0</td>\n",
       "      <td>1.10</td>\n",
       "      <td>203</td>\n",
       "      <td>52</td>\n",
       "      <td>1.0</td>\n",
       "      <td>4.769377</td>\n",
       "      <td>0.0</td>\n",
       "      <td>1.0</td>\n",
       "      <td>2.5</td>\n",
       "      <td>0.0</td>\n",
       "      <td>...</td>\n",
       "      <td>0.0</td>\n",
       "      <td>1.0</td>\n",
       "      <td>0.0</td>\n",
       "      <td>0.0</td>\n",
       "      <td>0.0</td>\n",
       "      <td>0.0</td>\n",
       "      <td>0.0</td>\n",
       "      <td>0.0</td>\n",
       "      <td>0</td>\n",
       "      <td>0</td>\n",
       "    </tr>\n",
       "  </tbody>\n",
       "</table>\n",
       "<p>5 rows × 29 columns</p>\n",
       "</div>"
      ],
      "text/plain": [
       "   passenger_count  trip_distance  PULocationID  DOLocationID  extra  \\\n",
       "0              1.0           2.14           120             9    2.5   \n",
       "1              1.0           2.70            15           215    3.5   \n",
       "2              1.0           1.15           167           223    0.0   \n",
       "3              1.0           0.40           128           239    2.5   \n",
       "4              3.0           1.10           203            52    1.0   \n",
       "\n",
       "   tip_amount  tolls_amount  improvement_surcharge  congestion_surcharge  \\\n",
       "0    7.165589           0.0                    1.0                   2.5   \n",
       "1    6.067401           0.0                    1.0                   2.5   \n",
       "2    4.111547           0.0                    1.0                   2.5   \n",
       "3    6.411079           0.0                    1.0                   2.5   \n",
       "4    4.769377           0.0                    1.0                   2.5   \n",
       "\n",
       "   Airport_fee  ...  VendorID_2  RatecodeID_1.0  RatecodeID_1.51830715769907  \\\n",
       "0          0.0  ...         0.0             1.0                          0.0   \n",
       "1          0.0  ...         0.0             1.0                          0.0   \n",
       "2          0.0  ...         0.0             1.0                          0.0   \n",
       "3          0.0  ...         0.0             1.0                          0.0   \n",
       "4          0.0  ...         0.0             1.0                          0.0   \n",
       "\n",
       "   RatecodeID_2.0  RatecodeID_3.0  RatecodeID_4.0  RatecodeID_5.0  \\\n",
       "0             0.0             0.0             0.0             0.0   \n",
       "1             0.0             0.0             0.0             0.0   \n",
       "2             0.0             0.0             0.0             0.0   \n",
       "3             0.0             0.0             0.0             0.0   \n",
       "4             0.0             0.0             0.0             0.0   \n",
       "\n",
       "   RatecodeID_99.0  RatecodeID_1.5670143713319924  RatecodeID_6.0  \n",
       "0              0.0                              0               0  \n",
       "1              0.0                              0               0  \n",
       "2              0.0                              0               0  \n",
       "3              0.0                              0               0  \n",
       "4              0.0                              0               0  \n",
       "\n",
       "[5 rows x 29 columns]"
      ]
     },
     "execution_count": 28,
     "metadata": {},
     "output_type": "execute_result"
    }
   ],
   "source": [
    "X.head()"
   ]
  },
  {
   "cell_type": "markdown",
   "id": "853d25bb",
   "metadata": {
    "papermill": {
     "duration": 0.018172,
     "end_time": "2023-12-09T09:46:22.546187",
     "exception": false,
     "start_time": "2023-12-09T09:46:22.528015",
     "status": "completed"
    },
    "tags": []
   },
   "source": [
    "Potential Outlier Detection for numeric values:"
   ]
  },
  {
   "cell_type": "code",
   "execution_count": 29,
   "id": "7ebd3b19",
   "metadata": {
    "execution": {
     "iopub.execute_input": "2023-12-09T09:46:22.584250Z",
     "iopub.status.busy": "2023-12-09T09:46:22.583930Z",
     "iopub.status.idle": "2023-12-09T09:46:22.587797Z",
     "shell.execute_reply": "2023-12-09T09:46:22.586830Z"
    },
    "papermill": {
     "duration": 0.025182,
     "end_time": "2023-12-09T09:46:22.589481",
     "exception": false,
     "start_time": "2023-12-09T09:46:22.564299",
     "status": "completed"
    },
    "tags": []
   },
   "outputs": [],
   "source": [
    "#X.head()"
   ]
  },
  {
   "cell_type": "code",
   "execution_count": 30,
   "id": "48361cfa",
   "metadata": {
    "execution": {
     "iopub.execute_input": "2023-12-09T09:46:22.626642Z",
     "iopub.status.busy": "2023-12-09T09:46:22.626306Z",
     "iopub.status.idle": "2023-12-09T09:46:22.632148Z",
     "shell.execute_reply": "2023-12-09T09:46:22.631479Z"
    },
    "papermill": {
     "duration": 0.026353,
     "end_time": "2023-12-09T09:46:22.633706",
     "exception": false,
     "start_time": "2023-12-09T09:46:22.607353",
     "status": "completed"
    },
    "tags": []
   },
   "outputs": [
    {
     "data": {
      "text/plain": [
       "\"import matplotlib.pyplot as plt\\nnumeric_features = ['passenger_count', 'trip_distance', 'travel_time', \\n                   'tip_amount','improvement_surcharge','congestion_surcharge','Airport_fee']\\nfor feature in numeric_features:\\n    plt.figure(figsize=(6, 4))\\n    plt.scatter(X[feature], X[feature], label=feature)\\n    plt.title(f'Scatter Plot of {feature}')\\n    plt.xlabel(feature)\\n    plt.ylabel(feature)\\n    plt.legend()\\n    plt.show()\""
      ]
     },
     "execution_count": 30,
     "metadata": {},
     "output_type": "execute_result"
    }
   ],
   "source": [
    "'''import matplotlib.pyplot as plt\n",
    "numeric_features = ['passenger_count', 'trip_distance', 'travel_time', \n",
    "                   'tip_amount','improvement_surcharge','congestion_surcharge','Airport_fee']\n",
    "for feature in numeric_features:\n",
    "    plt.figure(figsize=(6, 4))\n",
    "    plt.scatter(X[feature], X[feature], label=feature)\n",
    "    plt.title(f'Scatter Plot of {feature}')\n",
    "    plt.xlabel(feature)\n",
    "    plt.ylabel(feature)\n",
    "    plt.legend()\n",
    "    plt.show()'''"
   ]
  },
  {
   "cell_type": "code",
   "execution_count": 31,
   "id": "fa79fe9f",
   "metadata": {
    "execution": {
     "iopub.execute_input": "2023-12-09T09:46:22.670548Z",
     "iopub.status.busy": "2023-12-09T09:46:22.670223Z",
     "iopub.status.idle": "2023-12-09T09:46:22.676001Z",
     "shell.execute_reply": "2023-12-09T09:46:22.675274Z"
    },
    "papermill": {
     "duration": 0.025832,
     "end_time": "2023-12-09T09:46:22.677483",
     "exception": false,
     "start_time": "2023-12-09T09:46:22.651651",
     "status": "completed"
    },
    "tags": []
   },
   "outputs": [
    {
     "data": {
      "text/plain": [
       "\"# IQR Outlier removal method:\\ndef remove_outliers_iqr(df, column):\\n    Q1 = df[column].quantile(0.25)\\n    Q3 = df[column].quantile(0.75)\\n    IQR = Q3 - Q1\\n    lower_bound = Q1 - 1.5 * IQR\\n    upper_bound = Q3 + 1.5 * IQR\\n    df_cleaned = df[(df[column] >= lower_bound) & (df[column] <= upper_bound)]\\n    return df_cleaned\\n\\n\\nX = remove_outliers_iqr(X, 'tip_amount')\\nX = remove_outliers_iqr(X, 'trip_distance')\""
      ]
     },
     "execution_count": 31,
     "metadata": {},
     "output_type": "execute_result"
    }
   ],
   "source": [
    "'''# IQR Outlier removal method:\n",
    "def remove_outliers_iqr(df, column):\n",
    "    Q1 = df[column].quantile(0.25)\n",
    "    Q3 = df[column].quantile(0.75)\n",
    "    IQR = Q3 - Q1\n",
    "    lower_bound = Q1 - 1.5 * IQR\n",
    "    upper_bound = Q3 + 1.5 * IQR\n",
    "    df_cleaned = df[(df[column] >= lower_bound) & (df[column] <= upper_bound)]\n",
    "    return df_cleaned\n",
    "\n",
    "\n",
    "X = remove_outliers_iqr(X, 'tip_amount')\n",
    "X = remove_outliers_iqr(X, 'trip_distance')'''"
   ]
  },
  {
   "cell_type": "code",
   "execution_count": 32,
   "id": "705bf3cb",
   "metadata": {
    "execution": {
     "iopub.execute_input": "2023-12-09T09:46:22.714352Z",
     "iopub.status.busy": "2023-12-09T09:46:22.713984Z",
     "iopub.status.idle": "2023-12-09T09:46:22.720085Z",
     "shell.execute_reply": "2023-12-09T09:46:22.719247Z"
    },
    "papermill": {
     "duration": 0.026675,
     "end_time": "2023-12-09T09:46:22.721785",
     "exception": false,
     "start_time": "2023-12-09T09:46:22.695110",
     "status": "completed"
    },
    "tags": []
   },
   "outputs": [
    {
     "data": {
      "text/plain": [
       "\"numeric_features = ['passenger_count', 'trip_distance', 'travel_time', \\n                   'tip_amount','improvement_surcharge','congestion_surcharge','Airport_fee']\\nfor feature in numeric_features:\\n    plt.figure(figsize=(6, 4))\\n    plt.scatter(X[feature], X[feature], label=feature)\\n    plt.title(f'Scatter Plot of {feature}')\\n    plt.xlabel(feature)\\n    plt.ylabel(feature)\\n    plt.legend()\\n    plt.show()\""
      ]
     },
     "execution_count": 32,
     "metadata": {},
     "output_type": "execute_result"
    }
   ],
   "source": [
    "'''numeric_features = ['passenger_count', 'trip_distance', 'travel_time', \n",
    "                   'tip_amount','improvement_surcharge','congestion_surcharge','Airport_fee']\n",
    "for feature in numeric_features:\n",
    "    plt.figure(figsize=(6, 4))\n",
    "    plt.scatter(X[feature], X[feature], label=feature)\n",
    "    plt.title(f'Scatter Plot of {feature}')\n",
    "    plt.xlabel(feature)\n",
    "    plt.ylabel(feature)\n",
    "    plt.legend()\n",
    "    plt.show()'''"
   ]
  },
  {
   "cell_type": "code",
   "execution_count": 33,
   "id": "eb4a804d",
   "metadata": {
    "execution": {
     "iopub.execute_input": "2023-12-09T09:46:22.762107Z",
     "iopub.status.busy": "2023-12-09T09:46:22.761254Z",
     "iopub.status.idle": "2023-12-09T09:46:22.765155Z",
     "shell.execute_reply": "2023-12-09T09:46:22.764202Z"
    },
    "papermill": {
     "duration": 0.024491,
     "end_time": "2023-12-09T09:46:22.767064",
     "exception": false,
     "start_time": "2023-12-09T09:46:22.742573",
     "status": "completed"
    },
    "tags": []
   },
   "outputs": [],
   "source": [
    "#X"
   ]
  },
  {
   "cell_type": "code",
   "execution_count": 34,
   "id": "13fa4300",
   "metadata": {
    "execution": {
     "iopub.execute_input": "2023-12-09T09:46:22.806208Z",
     "iopub.status.busy": "2023-12-09T09:46:22.805652Z",
     "iopub.status.idle": "2023-12-09T09:46:22.810277Z",
     "shell.execute_reply": "2023-12-09T09:46:22.809627Z"
    },
    "papermill": {
     "duration": 0.026751,
     "end_time": "2023-12-09T09:46:22.812722",
     "exception": false,
     "start_time": "2023-12-09T09:46:22.785971",
     "status": "completed"
    },
    "tags": []
   },
   "outputs": [
    {
     "data": {
      "text/plain": [
       "\"temp = X[X['tip_amount'] > 150]\\ntemp['tip_amount'].value_counts()\""
      ]
     },
     "execution_count": 34,
     "metadata": {},
     "output_type": "execute_result"
    }
   ],
   "source": [
    "'''temp = X[X['tip_amount'] > 150]\n",
    "temp['tip_amount'].value_counts()'''"
   ]
  },
  {
   "cell_type": "code",
   "execution_count": 35,
   "id": "84bd2fcf",
   "metadata": {
    "execution": {
     "iopub.execute_input": "2023-12-09T09:46:22.851403Z",
     "iopub.status.busy": "2023-12-09T09:46:22.850823Z",
     "iopub.status.idle": "2023-12-09T09:46:22.856884Z",
     "shell.execute_reply": "2023-12-09T09:46:22.855834Z"
    },
    "papermill": {
     "duration": 0.0275,
     "end_time": "2023-12-09T09:46:22.858886",
     "exception": false,
     "start_time": "2023-12-09T09:46:22.831386",
     "status": "completed"
    },
    "tags": []
   },
   "outputs": [
    {
     "data": {
      "text/plain": [
       "\"#Remove outlier:\\nX = X[X['tip_amount'] <= 150]\""
      ]
     },
     "execution_count": 35,
     "metadata": {},
     "output_type": "execute_result"
    }
   ],
   "source": [
    "'''#Remove outlier:\n",
    "X = X[X['tip_amount'] <= 150]'''"
   ]
  },
  {
   "cell_type": "code",
   "execution_count": 36,
   "id": "1c076615",
   "metadata": {
    "execution": {
     "iopub.execute_input": "2023-12-09T09:46:22.898311Z",
     "iopub.status.busy": "2023-12-09T09:46:22.897936Z",
     "iopub.status.idle": "2023-12-09T09:46:22.903836Z",
     "shell.execute_reply": "2023-12-09T09:46:22.902764Z"
    },
    "papermill": {
     "duration": 0.027742,
     "end_time": "2023-12-09T09:46:22.905519",
     "exception": false,
     "start_time": "2023-12-09T09:46:22.877777",
     "status": "completed"
    },
    "tags": []
   },
   "outputs": [
    {
     "data": {
      "text/plain": [
       "\"temp = X[X['trip_distance'] > 100]\\ntemp['trip_distance'].value_counts()\""
      ]
     },
     "execution_count": 36,
     "metadata": {},
     "output_type": "execute_result"
    }
   ],
   "source": [
    "'''temp = X[X['trip_distance'] > 100]\n",
    "temp['trip_distance'].value_counts()'''"
   ]
  },
  {
   "cell_type": "markdown",
   "id": "149947ac",
   "metadata": {
    "papermill": {
     "duration": 0.01841,
     "end_time": "2023-12-09T09:46:22.942954",
     "exception": false,
     "start_time": "2023-12-09T09:46:22.924544",
     "status": "completed"
    },
    "tags": []
   },
   "source": [
    "Test-Train Split"
   ]
  },
  {
   "cell_type": "code",
   "execution_count": 37,
   "id": "7e37428e",
   "metadata": {
    "execution": {
     "iopub.execute_input": "2023-12-09T09:46:22.981763Z",
     "iopub.status.busy": "2023-12-09T09:46:22.981455Z",
     "iopub.status.idle": "2023-12-09T09:46:22.993140Z",
     "shell.execute_reply": "2023-12-09T09:46:22.992215Z"
    },
    "papermill": {
     "duration": 0.03378,
     "end_time": "2023-12-09T09:46:22.995361",
     "exception": false,
     "start_time": "2023-12-09T09:46:22.961581",
     "status": "completed"
    },
    "tags": []
   },
   "outputs": [],
   "source": [
    "#Necessary Common Libraries:\n",
    "from sklearn.model_selection import train_test_split\n",
    "from sklearn.preprocessing import MinMaxScaler\n",
    "from sklearn.preprocessing import StandardScaler\n",
    "from sklearn.pipeline import Pipeline\n",
    "from sklearn.metrics import mean_absolute_error, mean_squared_error, make_scorer, r2_score\n",
    "from sklearn.model_selection import cross_val_score"
   ]
  },
  {
   "cell_type": "code",
   "execution_count": 38,
   "id": "588c11fe",
   "metadata": {
    "execution": {
     "iopub.execute_input": "2023-12-09T09:46:23.035066Z",
     "iopub.status.busy": "2023-12-09T09:46:23.034768Z",
     "iopub.status.idle": "2023-12-09T09:46:23.087008Z",
     "shell.execute_reply": "2023-12-09T09:46:23.086148Z"
    },
    "papermill": {
     "duration": 0.074401,
     "end_time": "2023-12-09T09:46:23.089079",
     "exception": false,
     "start_time": "2023-12-09T09:46:23.014678",
     "status": "completed"
    },
    "tags": []
   },
   "outputs": [],
   "source": [
    "X_train, X_val, y_train, y_val = train_test_split(X, y, test_size=0.2, random_state=10)"
   ]
  },
  {
   "cell_type": "code",
   "execution_count": 39,
   "id": "46e43a04",
   "metadata": {
    "execution": {
     "iopub.execute_input": "2023-12-09T09:46:23.127954Z",
     "iopub.status.busy": "2023-12-09T09:46:23.127640Z",
     "iopub.status.idle": "2023-12-09T09:46:23.132489Z",
     "shell.execute_reply": "2023-12-09T09:46:23.131307Z"
    },
    "papermill": {
     "duration": 0.026462,
     "end_time": "2023-12-09T09:46:23.134394",
     "exception": false,
     "start_time": "2023-12-09T09:46:23.107932",
     "status": "completed"
    },
    "tags": []
   },
   "outputs": [],
   "source": [
    "#from sklearn.model_selection import train_test_split\n",
    "#X = df.drop(columns=['payment_type','store_and_fwd_flag','tpep_pickup_datetime', 'tpep_dropoff_datetime','total_amount'])\n",
    "#y = df['total_amount']\n",
    "#X_train, X_test, y_train, y_test = train_test_split(X, y, test_size=0.2, random_state=42)"
   ]
  },
  {
   "cell_type": "markdown",
   "id": "cd40d104",
   "metadata": {
    "papermill": {
     "duration": 0.017758,
     "end_time": "2023-12-09T09:46:23.174328",
     "exception": false,
     "start_time": "2023-12-09T09:46:23.156570",
     "status": "completed"
    },
    "tags": []
   },
   "source": [
    "Base Model:"
   ]
  },
  {
   "cell_type": "code",
   "execution_count": 40,
   "id": "1561ed64",
   "metadata": {
    "execution": {
     "iopub.execute_input": "2023-12-09T09:46:23.214417Z",
     "iopub.status.busy": "2023-12-09T09:46:23.213217Z",
     "iopub.status.idle": "2023-12-09T09:46:23.284376Z",
     "shell.execute_reply": "2023-12-09T09:46:23.283110Z"
    },
    "papermill": {
     "duration": 0.093734,
     "end_time": "2023-12-09T09:46:23.286201",
     "exception": false,
     "start_time": "2023-12-09T09:46:23.192467",
     "status": "completed"
    },
    "tags": []
   },
   "outputs": [
    {
     "name": "stdout",
     "output_type": "stream",
     "text": [
      "Mean Absolute Error: 16.42\n",
      "Mean Squared Error: 656.83\n",
      "Root Mean Squared Error: 25.63\n",
      "R-squared (R2) Score: -0.00\n"
     ]
    }
   ],
   "source": [
    "from sklearn.dummy import DummyRegressor\n",
    "\n",
    "#scaler = MinMaxScaler()\n",
    "scaler = StandardScaler()\n",
    "\n",
    "dummy_regressor = DummyRegressor(strategy='mean')\n",
    "\n",
    "dummy_pipeline = Pipeline([('scaler', scaler),('regressor', dummy_regressor)])\n",
    "dummy_pipeline.fit(X_train, y_train)\n",
    "\n",
    "y_pred1 = dummy_pipeline.predict(X_val)\n",
    "\n",
    "mae = mean_absolute_error(y_val, y_pred1)\n",
    "mse = mean_squared_error(y_val, y_pred1)\n",
    "rmse = mean_squared_error(y_val, y_pred1, squared=False)\n",
    "r2 = r2_score(y_val, y_pred1)\n",
    "\n",
    "print(f\"Mean Absolute Error: {mae:.2f}\")\n",
    "print(f\"Mean Squared Error: {mse:.2f}\")\n",
    "print(f\"Root Mean Squared Error: {rmse:.2f}\")\n",
    "print(f\"R-squared (R2) Score: {r2:.2f}\")\n"
   ]
  },
  {
   "cell_type": "code",
   "execution_count": 41,
   "id": "dbaced44",
   "metadata": {
    "execution": {
     "iopub.execute_input": "2023-12-09T09:46:23.324563Z",
     "iopub.status.busy": "2023-12-09T09:46:23.324198Z",
     "iopub.status.idle": "2023-12-09T09:46:23.674225Z",
     "shell.execute_reply": "2023-12-09T09:46:23.673054Z"
    },
    "papermill": {
     "duration": 0.371004,
     "end_time": "2023-12-09T09:46:23.676017",
     "exception": false,
     "start_time": "2023-12-09T09:46:23.305013",
     "status": "completed"
    },
    "tags": []
   },
   "outputs": [
    {
     "name": "stdout",
     "output_type": "stream",
     "text": [
      "Cross-Validation R-squared Scores: [-1.73444158e-06 -1.13478103e-04 -2.43221204e-05 -6.84051420e-07\n",
      " -2.44197118e-05]\n",
      "Mean R-squared Score: -3.2927685734795985e-05\n"
     ]
    }
   ],
   "source": [
    "r2_scorer = make_scorer(r2_score)\n",
    "cv_scores = cross_val_score(dummy_pipeline, X, y, cv=5,scoring = r2_scorer) \n",
    "\n",
    "print(\"Cross-Validation R-squared Scores:\", cv_scores)\n",
    "print(\"Mean R-squared Score:\", cv_scores.mean())"
   ]
  },
  {
   "cell_type": "markdown",
   "id": "16862f60",
   "metadata": {
    "papermill": {
     "duration": 0.018548,
     "end_time": "2023-12-09T09:46:23.713529",
     "exception": false,
     "start_time": "2023-12-09T09:46:23.694981",
     "status": "completed"
    },
    "tags": []
   },
   "source": [
    "Linear Regression:"
   ]
  },
  {
   "cell_type": "code",
   "execution_count": 42,
   "id": "38c565b1",
   "metadata": {
    "execution": {
     "iopub.execute_input": "2023-12-09T09:46:23.753447Z",
     "iopub.status.busy": "2023-12-09T09:46:23.752841Z",
     "iopub.status.idle": "2023-12-09T09:46:23.918214Z",
     "shell.execute_reply": "2023-12-09T09:46:23.917269Z"
    },
    "papermill": {
     "duration": 0.187986,
     "end_time": "2023-12-09T09:46:23.920468",
     "exception": false,
     "start_time": "2023-12-09T09:46:23.732482",
     "status": "completed"
    },
    "tags": []
   },
   "outputs": [
    {
     "name": "stdout",
     "output_type": "stream",
     "text": [
      "Mean Absolute Error: 7.34\n",
      "Mean Squared Error: 151.35\n",
      "Root Mean Squared Error: 12.30\n",
      "R-squared (R2) Score: 0.77\n"
     ]
    }
   ],
   "source": [
    "from sklearn.linear_model import LinearRegression\n",
    "\n",
    "scaler = MinMaxScaler()\n",
    "#scaler = StandardScaler()\n",
    "\n",
    "lin_reg = LinearRegression()\n",
    "\n",
    "lr_pipeline = Pipeline([('scaler', scaler),('regressor', lin_reg)])\n",
    "lr_pipeline.fit(X_train, y_train)\n",
    "\n",
    "y_pred2 = lr_pipeline.predict(X_val)\n",
    "\n",
    "mae = mean_absolute_error(y_val, y_pred2)\n",
    "mse = mean_squared_error(y_val, y_pred2)\n",
    "rmse = mean_squared_error(y_val, y_pred2, squared=False)\n",
    "r2 = r2_score(y_val, y_pred2)\n",
    "\n",
    "print(f\"Mean Absolute Error: {mae:.2f}\")\n",
    "print(f\"Mean Squared Error: {mse:.2f}\")\n",
    "print(f\"Root Mean Squared Error: {rmse:.2f}\")\n",
    "print(f\"R-squared (R2) Score: {r2:.2f}\")"
   ]
  },
  {
   "cell_type": "code",
   "execution_count": 43,
   "id": "4b028b05",
   "metadata": {
    "execution": {
     "iopub.execute_input": "2023-12-09T09:46:24.012948Z",
     "iopub.status.busy": "2023-12-09T09:46:24.012591Z",
     "iopub.status.idle": "2023-12-09T09:46:25.174004Z",
     "shell.execute_reply": "2023-12-09T09:46:25.173175Z"
    },
    "papermill": {
     "duration": 1.194352,
     "end_time": "2023-12-09T09:46:25.175925",
     "exception": false,
     "start_time": "2023-12-09T09:46:23.981573",
     "status": "completed"
    },
    "tags": []
   },
   "outputs": [
    {
     "name": "stdout",
     "output_type": "stream",
     "text": [
      "Cross-Validation R-squared Scores: [0.75127652 0.78092893 0.7878777  0.76792489 0.77780879]\n",
      "Mean R-squared Score: 0.7731633660158799\n"
     ]
    }
   ],
   "source": [
    "r2_scorer = make_scorer(r2_score)\n",
    "cv_scores = cross_val_score(lr_pipeline, X, y, cv=5,scoring = r2_scorer) \n",
    "\n",
    "print(\"Cross-Validation R-squared Scores:\", cv_scores)\n",
    "print(\"Mean R-squared Score:\", cv_scores.mean())"
   ]
  },
  {
   "cell_type": "markdown",
   "id": "4d7c505d",
   "metadata": {
    "papermill": {
     "duration": 0.039194,
     "end_time": "2023-12-09T09:46:25.279317",
     "exception": false,
     "start_time": "2023-12-09T09:46:25.240123",
     "status": "completed"
    },
    "tags": []
   },
   "source": [
    "Polynomial Regression:"
   ]
  },
  {
   "cell_type": "code",
   "execution_count": 44,
   "id": "b0570226",
   "metadata": {
    "execution": {
     "iopub.execute_input": "2023-12-09T09:46:25.320684Z",
     "iopub.status.busy": "2023-12-09T09:46:25.320340Z",
     "iopub.status.idle": "2023-12-09T09:46:28.819963Z",
     "shell.execute_reply": "2023-12-09T09:46:28.819108Z"
    },
    "papermill": {
     "duration": 3.521904,
     "end_time": "2023-12-09T09:46:28.822022",
     "exception": false,
     "start_time": "2023-12-09T09:46:25.300118",
     "status": "completed"
    },
    "tags": []
   },
   "outputs": [
    {
     "name": "stdout",
     "output_type": "stream",
     "text": [
      "Mean Absolute Error: 6.06\n",
      "Mean Squared Error: 139056.73\n",
      "Root Mean Squared Error: 372.90\n",
      "R-squared (R2) Score: -210.72\n"
     ]
    }
   ],
   "source": [
    "from sklearn.preprocessing import StandardScaler, PolynomialFeatures\n",
    "from sklearn.linear_model import LinearRegression\n",
    "\n",
    "#scaler = MinMaxScaler()\n",
    "scaler = StandardScaler()\n",
    "\n",
    "poly_features = PolynomialFeatures(degree=2)\n",
    "lin_reg = LinearRegression()\n",
    "\n",
    "poly_pipeline = Pipeline([('scaler', scaler),('poly', poly_features),('regressor',lin_reg)])\n",
    "poly_pipeline.fit(X_train, y_train)\n",
    "y_pred3 = poly_pipeline.predict(X_val)\n",
    "\n",
    "mae = mean_absolute_error(y_val, y_pred3)\n",
    "mse = mean_squared_error(y_val, y_pred3)\n",
    "rmse = mean_squared_error(y_val, y_pred3, squared=False)\n",
    "r2 = r2_score(y_val, y_pred3)\n",
    "\n",
    "print(f\"Mean Absolute Error: {mae:.2f}\")\n",
    "print(f\"Mean Squared Error: {mse:.2f}\")\n",
    "print(f\"Root Mean Squared Error: {rmse:.2f}\")\n",
    "print(f\"R-squared (R2) Score: {r2:.2f}\")"
   ]
  },
  {
   "cell_type": "code",
   "execution_count": 45,
   "id": "7ddde33f",
   "metadata": {
    "execution": {
     "iopub.execute_input": "2023-12-09T09:46:28.871292Z",
     "iopub.status.busy": "2023-12-09T09:46:28.870983Z",
     "iopub.status.idle": "2023-12-09T09:46:46.231155Z",
     "shell.execute_reply": "2023-12-09T09:46:46.230212Z"
    },
    "papermill": {
     "duration": 17.387734,
     "end_time": "2023-12-09T09:46:46.233768",
     "exception": false,
     "start_time": "2023-12-09T09:46:28.846034",
     "status": "completed"
    },
    "tags": []
   },
   "outputs": [
    {
     "name": "stdout",
     "output_type": "stream",
     "text": [
      "Cross-Validation R-squared Scores: [ 8.74048660e-01 -1.54316079e+06 -1.14872848e+04 -3.93767510e+04\n",
      "  9.17042633e-01]\n",
      "Mean R-squared Score: -318804.6068270002\n"
     ]
    }
   ],
   "source": [
    "r2_scorer = make_scorer(r2_score)\n",
    "cv_scores = cross_val_score(poly_pipeline, X, y, cv=5,scoring = r2_scorer) \n",
    "\n",
    "print(\"Cross-Validation R-squared Scores:\", cv_scores)\n",
    "print(\"Mean R-squared Score:\", cv_scores.mean())"
   ]
  },
  {
   "cell_type": "markdown",
   "id": "47f91952",
   "metadata": {
    "papermill": {
     "duration": 0.023539,
     "end_time": "2023-12-09T09:46:46.282453",
     "exception": false,
     "start_time": "2023-12-09T09:46:46.258914",
     "status": "completed"
    },
    "tags": []
   },
   "source": [
    "Polynomial with Ridge Regression:"
   ]
  },
  {
   "cell_type": "code",
   "execution_count": 46,
   "id": "7f179182",
   "metadata": {
    "execution": {
     "iopub.execute_input": "2023-12-09T09:46:46.332135Z",
     "iopub.status.busy": "2023-12-09T09:46:46.331768Z",
     "iopub.status.idle": "2023-12-09T09:46:46.339976Z",
     "shell.execute_reply": "2023-12-09T09:46:46.339246Z"
    },
    "papermill": {
     "duration": 0.035565,
     "end_time": "2023-12-09T09:46:46.342034",
     "exception": false,
     "start_time": "2023-12-09T09:46:46.306469",
     "status": "completed"
    },
    "tags": []
   },
   "outputs": [
    {
     "data": {
      "text/plain": [
       "'from sklearn.preprocessing import StandardScaler, PolynomialFeatures\\nfrom sklearn.linear_model import Ridge\\n\\n#scaler = MinMaxScaler()\\nscaler = StandardScaler()\\n\\npoly_features = PolynomialFeatures(degree=2)\\nridge = Ridge(alpha=1.0)\\n\\nridge_poly_pipeline = Pipeline([(\\'scaler\\', scaler),(\\'poly\\', poly_features),(\\'regressor\\',ridge)])\\nridge_poly_pipeline.fit(X_train, y_train)\\ny_pred4 = ridge_poly_pipeline.predict(X_val)\\n\\nmae = mean_absolute_error(y_val, y_pred4)\\nmse = mean_squared_error(y_val, y_pred4)\\nrmse = mean_squared_error(y_val, y_pred4, squared=False)\\nr2 = r2_score(y_val, y_pred4)\\n\\nprint(f\"Mean Absolute Error: {mae:.2f}\")\\nprint(f\"Mean Squared Error: {mse:.2f}\")\\nprint(f\"Root Mean Squared Error: {rmse:.2f}\")\\nprint(f\"R-squared (R2) Score: {r2:.2f}\")'"
      ]
     },
     "execution_count": 46,
     "metadata": {},
     "output_type": "execute_result"
    }
   ],
   "source": [
    "'''from sklearn.preprocessing import StandardScaler, PolynomialFeatures\n",
    "from sklearn.linear_model import Ridge\n",
    "\n",
    "#scaler = MinMaxScaler()\n",
    "scaler = StandardScaler()\n",
    "\n",
    "poly_features = PolynomialFeatures(degree=2)\n",
    "ridge = Ridge(alpha=1.0)\n",
    "\n",
    "ridge_poly_pipeline = Pipeline([('scaler', scaler),('poly', poly_features),('regressor',ridge)])\n",
    "ridge_poly_pipeline.fit(X_train, y_train)\n",
    "y_pred4 = ridge_poly_pipeline.predict(X_val)\n",
    "\n",
    "mae = mean_absolute_error(y_val, y_pred4)\n",
    "mse = mean_squared_error(y_val, y_pred4)\n",
    "rmse = mean_squared_error(y_val, y_pred4, squared=False)\n",
    "r2 = r2_score(y_val, y_pred4)\n",
    "\n",
    "print(f\"Mean Absolute Error: {mae:.2f}\")\n",
    "print(f\"Mean Squared Error: {mse:.2f}\")\n",
    "print(f\"Root Mean Squared Error: {rmse:.2f}\")\n",
    "print(f\"R-squared (R2) Score: {r2:.2f}\")'''"
   ]
  },
  {
   "cell_type": "code",
   "execution_count": 47,
   "id": "dde28e4a",
   "metadata": {
    "execution": {
     "iopub.execute_input": "2023-12-09T09:46:46.383518Z",
     "iopub.status.busy": "2023-12-09T09:46:46.383140Z",
     "iopub.status.idle": "2023-12-09T09:46:46.388818Z",
     "shell.execute_reply": "2023-12-09T09:46:46.387939Z"
    },
    "papermill": {
     "duration": 0.028619,
     "end_time": "2023-12-09T09:46:46.390562",
     "exception": false,
     "start_time": "2023-12-09T09:46:46.361943",
     "status": "completed"
    },
    "tags": []
   },
   "outputs": [
    {
     "data": {
      "text/plain": [
       "'r2_scorer = make_scorer(r2_score)\\ncv_scores = cross_val_score(ridge_poly_pipeline, X, y, cv=5,scoring = r2_scorer) \\n\\nprint(\"Cross-Validation R-squared Scores:\", cv_scores)\\nprint(\"Mean R-squared Score:\", cv_scores.mean())'"
      ]
     },
     "execution_count": 47,
     "metadata": {},
     "output_type": "execute_result"
    }
   ],
   "source": [
    "'''r2_scorer = make_scorer(r2_score)\n",
    "cv_scores = cross_val_score(ridge_poly_pipeline, X, y, cv=5,scoring = r2_scorer) \n",
    "\n",
    "print(\"Cross-Validation R-squared Scores:\", cv_scores)\n",
    "print(\"Mean R-squared Score:\", cv_scores.mean())'''"
   ]
  },
  {
   "cell_type": "markdown",
   "id": "e0c8cfdb",
   "metadata": {
    "papermill": {
     "duration": 0.019526,
     "end_time": "2023-12-09T09:46:46.430038",
     "exception": false,
     "start_time": "2023-12-09T09:46:46.410512",
     "status": "completed"
    },
    "tags": []
   },
   "source": [
    "Lasso Regression:"
   ]
  },
  {
   "cell_type": "code",
   "execution_count": 48,
   "id": "785af150",
   "metadata": {
    "execution": {
     "iopub.execute_input": "2023-12-09T09:46:46.471039Z",
     "iopub.status.busy": "2023-12-09T09:46:46.470401Z",
     "iopub.status.idle": "2023-12-09T09:46:46.476954Z",
     "shell.execute_reply": "2023-12-09T09:46:46.475925Z"
    },
    "papermill": {
     "duration": 0.029096,
     "end_time": "2023-12-09T09:46:46.478778",
     "exception": false,
     "start_time": "2023-12-09T09:46:46.449682",
     "status": "completed"
    },
    "tags": []
   },
   "outputs": [
    {
     "data": {
      "text/plain": [
       "'from sklearn.linear_model import Lasso\\n\\n#scaler = MinMaxScaler()\\nscaler = StandardScaler()\\n\\nlasso = Lasso(alpha=1.0)\\n\\nlasso_pipeline = Pipeline([(\\'scaler\\', scaler),(\\'regressor\\',lasso)])\\nlasso_pipeline.fit(X_train, y_train)\\ny_pred5 = lasso_pipeline.predict(X_val)\\n\\nmae = mean_absolute_error(y_val, y_pred5)\\nmse = mean_squared_error(y_val, y_pred5)\\nrmse = mean_squared_error(y_val, y_pred5, squared=False)\\nr2 = r2_score(y_val, y_pred5)\\n\\nprint(f\"Mean Absolute Error: {mae:.2f}\")\\nprint(f\"Mean Squared Error: {mse:.2f}\")\\nprint(f\"Root Mean Squared Error: {rmse:.2f}\")\\nprint(f\"R-squared (R2) Score: {r2:.2f}\")'"
      ]
     },
     "execution_count": 48,
     "metadata": {},
     "output_type": "execute_result"
    }
   ],
   "source": [
    "'''from sklearn.linear_model import Lasso\n",
    "\n",
    "#scaler = MinMaxScaler()\n",
    "scaler = StandardScaler()\n",
    "\n",
    "lasso = Lasso(alpha=1.0)\n",
    "\n",
    "lasso_pipeline = Pipeline([('scaler', scaler),('regressor',lasso)])\n",
    "lasso_pipeline.fit(X_train, y_train)\n",
    "y_pred5 = lasso_pipeline.predict(X_val)\n",
    "\n",
    "mae = mean_absolute_error(y_val, y_pred5)\n",
    "mse = mean_squared_error(y_val, y_pred5)\n",
    "rmse = mean_squared_error(y_val, y_pred5, squared=False)\n",
    "r2 = r2_score(y_val, y_pred5)\n",
    "\n",
    "print(f\"Mean Absolute Error: {mae:.2f}\")\n",
    "print(f\"Mean Squared Error: {mse:.2f}\")\n",
    "print(f\"Root Mean Squared Error: {rmse:.2f}\")\n",
    "print(f\"R-squared (R2) Score: {r2:.2f}\")'''"
   ]
  },
  {
   "cell_type": "code",
   "execution_count": 49,
   "id": "f48dc67b",
   "metadata": {
    "execution": {
     "iopub.execute_input": "2023-12-09T09:46:46.519623Z",
     "iopub.status.busy": "2023-12-09T09:46:46.519093Z",
     "iopub.status.idle": "2023-12-09T09:46:46.524364Z",
     "shell.execute_reply": "2023-12-09T09:46:46.523706Z"
    },
    "papermill": {
     "duration": 0.027603,
     "end_time": "2023-12-09T09:46:46.526002",
     "exception": false,
     "start_time": "2023-12-09T09:46:46.498399",
     "status": "completed"
    },
    "tags": []
   },
   "outputs": [
    {
     "data": {
      "text/plain": [
       "'r2_scorer = make_scorer(r2_score)\\ncv_scores = cross_val_score(lasso_pipeline, X, y, cv=5,scoring = r2_scorer) \\n\\nprint(\"Cross-Validation R-squared Scores:\", cv_scores)\\nprint(\"Mean R-squared Score:\", cv_scores.mean())'"
      ]
     },
     "execution_count": 49,
     "metadata": {},
     "output_type": "execute_result"
    }
   ],
   "source": [
    "'''r2_scorer = make_scorer(r2_score)\n",
    "cv_scores = cross_val_score(lasso_pipeline, X, y, cv=5,scoring = r2_scorer) \n",
    "\n",
    "print(\"Cross-Validation R-squared Scores:\", cv_scores)\n",
    "print(\"Mean R-squared Score:\", cv_scores.mean())'''"
   ]
  },
  {
   "cell_type": "markdown",
   "id": "923354db",
   "metadata": {
    "papermill": {
     "duration": 0.019728,
     "end_time": "2023-12-09T09:46:46.565608",
     "exception": false,
     "start_time": "2023-12-09T09:46:46.545880",
     "status": "completed"
    },
    "tags": []
   },
   "source": [
    "Ridge Regression"
   ]
  },
  {
   "cell_type": "code",
   "execution_count": 50,
   "id": "6fc50290",
   "metadata": {
    "execution": {
     "iopub.execute_input": "2023-12-09T09:46:46.607332Z",
     "iopub.status.busy": "2023-12-09T09:46:46.606811Z",
     "iopub.status.idle": "2023-12-09T09:46:46.612748Z",
     "shell.execute_reply": "2023-12-09T09:46:46.611816Z"
    },
    "papermill": {
     "duration": 0.029174,
     "end_time": "2023-12-09T09:46:46.614507",
     "exception": false,
     "start_time": "2023-12-09T09:46:46.585333",
     "status": "completed"
    },
    "tags": []
   },
   "outputs": [
    {
     "data": {
      "text/plain": [
       "'from sklearn.linear_model import Ridge\\n\\n#scaler = MinMaxScaler()\\nscaler = StandardScaler()\\n\\nridge = Ridge(alpha=1.0)\\n\\nridge_pipeline = Pipeline([(\\'scaler\\', StandardScaler()),(\\'regressor\\',ridge)])\\nridge_pipeline.fit(X_train, y_train)\\ny_pred6 = ridge_pipeline.predict(X_val)\\n\\nmae = mean_absolute_error(y_val, y_pred6)\\nmse = mean_squared_error(y_val, y_pred6)\\nrmse = mean_squared_error(y_val, y_pred6, squared=False)\\nr2 = r2_score(y_val, y_pred6)\\n\\nprint(f\"Mean Absolute Error: {mae:.2f}\")\\nprint(f\"Mean Squared Error: {mse:.2f}\")\\nprint(f\"Root Mean Squared Error: {rmse:.2f}\")\\nprint(f\"R-squared (R2) Score: {r2:.2f}\")'"
      ]
     },
     "execution_count": 50,
     "metadata": {},
     "output_type": "execute_result"
    }
   ],
   "source": [
    "'''from sklearn.linear_model import Ridge\n",
    "\n",
    "#scaler = MinMaxScaler()\n",
    "scaler = StandardScaler()\n",
    "\n",
    "ridge = Ridge(alpha=1.0)\n",
    "\n",
    "ridge_pipeline = Pipeline([('scaler', StandardScaler()),('regressor',ridge)])\n",
    "ridge_pipeline.fit(X_train, y_train)\n",
    "y_pred6 = ridge_pipeline.predict(X_val)\n",
    "\n",
    "mae = mean_absolute_error(y_val, y_pred6)\n",
    "mse = mean_squared_error(y_val, y_pred6)\n",
    "rmse = mean_squared_error(y_val, y_pred6, squared=False)\n",
    "r2 = r2_score(y_val, y_pred6)\n",
    "\n",
    "print(f\"Mean Absolute Error: {mae:.2f}\")\n",
    "print(f\"Mean Squared Error: {mse:.2f}\")\n",
    "print(f\"Root Mean Squared Error: {rmse:.2f}\")\n",
    "print(f\"R-squared (R2) Score: {r2:.2f}\")'''"
   ]
  },
  {
   "cell_type": "code",
   "execution_count": 51,
   "id": "538ce823",
   "metadata": {
    "execution": {
     "iopub.execute_input": "2023-12-09T09:46:46.655528Z",
     "iopub.status.busy": "2023-12-09T09:46:46.655170Z",
     "iopub.status.idle": "2023-12-09T09:46:46.660837Z",
     "shell.execute_reply": "2023-12-09T09:46:46.659979Z"
    },
    "papermill": {
     "duration": 0.028404,
     "end_time": "2023-12-09T09:46:46.662615",
     "exception": false,
     "start_time": "2023-12-09T09:46:46.634211",
     "status": "completed"
    },
    "tags": []
   },
   "outputs": [
    {
     "data": {
      "text/plain": [
       "'r2_scorer = make_scorer(r2_score)\\ncv_scores = cross_val_score(ridge_pipeline, X, y, cv=5,scoring = r2_scorer) \\n\\nprint(\"Cross-Validation R-squared Scores:\", cv_scores)\\nprint(\"Mean R-squared Score:\", cv_scores.mean())'"
      ]
     },
     "execution_count": 51,
     "metadata": {},
     "output_type": "execute_result"
    }
   ],
   "source": [
    "'''r2_scorer = make_scorer(r2_score)\n",
    "cv_scores = cross_val_score(ridge_pipeline, X, y, cv=5,scoring = r2_scorer) \n",
    "\n",
    "print(\"Cross-Validation R-squared Scores:\", cv_scores)\n",
    "print(\"Mean R-squared Score:\", cv_scores.mean())'''"
   ]
  },
  {
   "cell_type": "markdown",
   "id": "09a8d0c4",
   "metadata": {
    "papermill": {
     "duration": 0.019639,
     "end_time": "2023-12-09T09:46:46.702139",
     "exception": false,
     "start_time": "2023-12-09T09:46:46.682500",
     "status": "completed"
    },
    "tags": []
   },
   "source": [
    "KNN-Regressor:"
   ]
  },
  {
   "cell_type": "code",
   "execution_count": 52,
   "id": "3a91e951",
   "metadata": {
    "execution": {
     "iopub.execute_input": "2023-12-09T09:46:46.744627Z",
     "iopub.status.busy": "2023-12-09T09:46:46.743985Z",
     "iopub.status.idle": "2023-12-09T09:49:33.511403Z",
     "shell.execute_reply": "2023-12-09T09:49:33.510174Z"
    },
    "papermill": {
     "duration": 166.813922,
     "end_time": "2023-12-09T09:49:33.536404",
     "exception": false,
     "start_time": "2023-12-09T09:46:46.722482",
     "status": "completed"
    },
    "tags": []
   },
   "outputs": [
    {
     "name": "stdout",
     "output_type": "stream",
     "text": [
      "Mean Absolute Error: 6.36\n",
      "Mean Squared Error: 127.36\n",
      "Root Mean Squared Error: 11.29\n",
      "R-squared (R2) Score: 0.81\n"
     ]
    }
   ],
   "source": [
    "from sklearn.neighbors import KNeighborsRegressor\n",
    "from sklearn.model_selection import GridSearchCV\n",
    "\n",
    "#scaler = MinMaxScaler()\n",
    "scaler = StandardScaler()\n",
    "\n",
    "knn = KNeighborsRegressor()\n",
    "\n",
    "knn_pipeline = Pipeline([('scaler', StandardScaler()),('regressor',knn)])\n",
    "\n",
    "# Get the best n_neighbors value from the GridSearchCV results:\n",
    "param_grid = {'regressor__n_neighbors': [7, 9, 11, 13, 15, 17]}\n",
    "grid_search = GridSearchCV(knn_pipeline, param_grid, cv=5, scoring='neg_mean_squared_error')\n",
    "grid_search.fit(X_train, y_train)\n",
    "best_n = grid_search.best_params_['regressor__n_neighbors']\n",
    "\n",
    "knn_pipeline.set_params(regressor__n_neighbors=best_n)\n",
    "knn_pipeline.fit(X_train, y_train)\n",
    "y_pred7 = knn_pipeline.predict(X_val)\n",
    "\n",
    "mae = mean_absolute_error(y_val, y_pred7)\n",
    "mse = mean_squared_error(y_val, y_pred7)\n",
    "rmse = mean_squared_error(y_val, y_pred7, squared=False)\n",
    "r2 = r2_score(y_val, y_pred7)\n",
    "\n",
    "print(f\"Mean Absolute Error: {mae:.2f}\")\n",
    "print(f\"Mean Squared Error: {mse:.2f}\")\n",
    "print(f\"Root Mean Squared Error: {rmse:.2f}\")\n",
    "print(f\"R-squared (R2) Score: {r2:.2f}\")"
   ]
  },
  {
   "cell_type": "code",
   "execution_count": 53,
   "id": "397e5ef4",
   "metadata": {
    "execution": {
     "iopub.execute_input": "2023-12-09T09:49:33.578003Z",
     "iopub.status.busy": "2023-12-09T09:49:33.577069Z",
     "iopub.status.idle": "2023-12-09T09:49:33.582004Z",
     "shell.execute_reply": "2023-12-09T09:49:33.581240Z"
    },
    "papermill": {
     "duration": 0.026984,
     "end_time": "2023-12-09T09:49:33.583730",
     "exception": false,
     "start_time": "2023-12-09T09:49:33.556746",
     "status": "completed"
    },
    "tags": []
   },
   "outputs": [
    {
     "name": "stdout",
     "output_type": "stream",
     "text": [
      "11\n"
     ]
    }
   ],
   "source": [
    "print(best_n)"
   ]
  },
  {
   "cell_type": "code",
   "execution_count": 54,
   "id": "0036dc19",
   "metadata": {
    "execution": {
     "iopub.execute_input": "2023-12-09T09:49:33.632339Z",
     "iopub.status.busy": "2023-12-09T09:49:33.631708Z",
     "iopub.status.idle": "2023-12-09T09:50:14.887781Z",
     "shell.execute_reply": "2023-12-09T09:50:14.886634Z"
    },
    "papermill": {
     "duration": 41.3038,
     "end_time": "2023-12-09T09:50:14.908621",
     "exception": false,
     "start_time": "2023-12-09T09:49:33.604821",
     "status": "completed"
    },
    "tags": []
   },
   "outputs": [
    {
     "name": "stdout",
     "output_type": "stream",
     "text": [
      "Cross-Validation R-squared Scores: [0.79882221 0.81925817 0.82828452 0.81374968 0.81943704]\n",
      "Mean R-squared Score: 0.8159103239314904\n"
     ]
    }
   ],
   "source": [
    "r2_scorer = make_scorer(r2_score)\n",
    "cv_scores = cross_val_score(knn_pipeline, X, y, cv=5,scoring = r2_scorer) \n",
    "\n",
    "print(\"Cross-Validation R-squared Scores:\", cv_scores)\n",
    "print(\"Mean R-squared Score:\", cv_scores.mean())"
   ]
  },
  {
   "cell_type": "markdown",
   "id": "ea7a6850",
   "metadata": {
    "papermill": {
     "duration": 0.019676,
     "end_time": "2023-12-09T09:50:14.948270",
     "exception": false,
     "start_time": "2023-12-09T09:50:14.928594",
     "status": "completed"
    },
    "tags": []
   },
   "source": [
    "KNN-Polynomial:"
   ]
  },
  {
   "cell_type": "code",
   "execution_count": 55,
   "id": "0cf1319a",
   "metadata": {
    "execution": {
     "iopub.execute_input": "2023-12-09T09:50:14.988662Z",
     "iopub.status.busy": "2023-12-09T09:50:14.988339Z",
     "iopub.status.idle": "2023-12-09T09:50:14.995616Z",
     "shell.execute_reply": "2023-12-09T09:50:14.994505Z"
    },
    "papermill": {
     "duration": 0.029615,
     "end_time": "2023-12-09T09:50:14.997384",
     "exception": false,
     "start_time": "2023-12-09T09:50:14.967769",
     "status": "completed"
    },
    "tags": []
   },
   "outputs": [
    {
     "data": {
      "text/plain": [
       "'from sklearn.preprocessing import StandardScaler, PolynomialFeatures\\nfrom sklearn.neighbors import KNeighborsRegressor\\nfrom sklearn.model_selection import GridSearchCV\\n\\n#scaler = MinMaxScaler()\\nscaler = StandardScaler()\\n\\npoly_features = PolynomialFeatures(degree=2)\\nknn = KNeighborsRegressor()\\n\\nknn_poly_pipeline = Pipeline([(\\'scaler\\', StandardScaler()),(\\'poly\\', poly_features), (\\'regressor\\',knn)])\\n\\n# Get the best n_neighbors value from the GridSearchCV results:\\nparam_grid = {\\'regressor__n_neighbors\\': [1, 3, 5, 7, 9, 11, 13]}\\ngrid_search = GridSearchCV(knn_poly_pipeline, param_grid, cv=5, scoring=\\'neg_mean_squared_error\\')\\ngrid_search.fit(X_train, y_train)\\nbest_n2 = grid_search.best_params_[\\'regressor__n_neighbors\\']\\n\\nknn_poly_pipeline.set_params(regressor__n_neighbors=best_n2)\\nknn_poly_pipeline.fit(X_train, y_train)\\ny_pred8 = knn_poly_pipeline.predict(X_val)\\n\\nmae = mean_absolute_error(y_val, y_pred8)\\nmse = mean_squared_error(y_val, y_pred8)\\nrmse = mean_squared_error(y_val, y_pred8, squared=False)\\nr2 = r2_score(y_val, y_pred8)\\n\\nprint(f\"Mean Absolute Error: {mae:.2f}\")\\nprint(f\"Mean Squared Error: {mse:.2f}\")\\nprint(f\"Root Mean Squared Error: {rmse:.2f}\")\\nprint(f\"R-squared (R2) Score: {r2:.2f}\")'"
      ]
     },
     "execution_count": 55,
     "metadata": {},
     "output_type": "execute_result"
    }
   ],
   "source": [
    "'''from sklearn.preprocessing import StandardScaler, PolynomialFeatures\n",
    "from sklearn.neighbors import KNeighborsRegressor\n",
    "from sklearn.model_selection import GridSearchCV\n",
    "\n",
    "#scaler = MinMaxScaler()\n",
    "scaler = StandardScaler()\n",
    "\n",
    "poly_features = PolynomialFeatures(degree=2)\n",
    "knn = KNeighborsRegressor()\n",
    "\n",
    "knn_poly_pipeline = Pipeline([('scaler', StandardScaler()),('poly', poly_features), ('regressor',knn)])\n",
    "\n",
    "# Get the best n_neighbors value from the GridSearchCV results:\n",
    "param_grid = {'regressor__n_neighbors': [1, 3, 5, 7, 9, 11, 13]}\n",
    "grid_search = GridSearchCV(knn_poly_pipeline, param_grid, cv=5, scoring='neg_mean_squared_error')\n",
    "grid_search.fit(X_train, y_train)\n",
    "best_n2 = grid_search.best_params_['regressor__n_neighbors']\n",
    "\n",
    "knn_poly_pipeline.set_params(regressor__n_neighbors=best_n2)\n",
    "knn_poly_pipeline.fit(X_train, y_train)\n",
    "y_pred8 = knn_poly_pipeline.predict(X_val)\n",
    "\n",
    "mae = mean_absolute_error(y_val, y_pred8)\n",
    "mse = mean_squared_error(y_val, y_pred8)\n",
    "rmse = mean_squared_error(y_val, y_pred8, squared=False)\n",
    "r2 = r2_score(y_val, y_pred8)\n",
    "\n",
    "print(f\"Mean Absolute Error: {mae:.2f}\")\n",
    "print(f\"Mean Squared Error: {mse:.2f}\")\n",
    "print(f\"Root Mean Squared Error: {rmse:.2f}\")\n",
    "print(f\"R-squared (R2) Score: {r2:.2f}\")'''"
   ]
  },
  {
   "cell_type": "code",
   "execution_count": 56,
   "id": "5ef2d7cd",
   "metadata": {
    "execution": {
     "iopub.execute_input": "2023-12-09T09:50:15.039753Z",
     "iopub.status.busy": "2023-12-09T09:50:15.039405Z",
     "iopub.status.idle": "2023-12-09T09:50:15.045087Z",
     "shell.execute_reply": "2023-12-09T09:50:15.044471Z"
    },
    "papermill": {
     "duration": 0.02926,
     "end_time": "2023-12-09T09:50:15.047105",
     "exception": false,
     "start_time": "2023-12-09T09:50:15.017845",
     "status": "completed"
    },
    "tags": []
   },
   "outputs": [
    {
     "data": {
      "text/plain": [
       "'r2_scorer = make_scorer(r2_score)\\ncv_scores = cross_val_score(knn_poly_pipeline, X, y, cv=5,scoring = r2_scorer) \\n\\nprint(\"Cross-Validation R-squared Scores:\", cv_scores)\\nprint(\"Mean R-squared Score:\", cv_scores.mean())'"
      ]
     },
     "execution_count": 56,
     "metadata": {},
     "output_type": "execute_result"
    }
   ],
   "source": [
    "'''r2_scorer = make_scorer(r2_score)\n",
    "cv_scores = cross_val_score(knn_poly_pipeline, X, y, cv=5,scoring = r2_scorer) \n",
    "\n",
    "print(\"Cross-Validation R-squared Scores:\", cv_scores)\n",
    "print(\"Mean R-squared Score:\", cv_scores.mean())'''"
   ]
  },
  {
   "cell_type": "markdown",
   "id": "c6ccb2ee",
   "metadata": {
    "papermill": {
     "duration": 0.020687,
     "end_time": "2023-12-09T09:50:15.088899",
     "exception": false,
     "start_time": "2023-12-09T09:50:15.068212",
     "status": "completed"
    },
    "tags": []
   },
   "source": [
    "Support Vector Machine (SVM) regressor:"
   ]
  },
  {
   "cell_type": "code",
   "execution_count": 57,
   "id": "f008d99b",
   "metadata": {
    "execution": {
     "iopub.execute_input": "2023-12-09T09:50:15.132049Z",
     "iopub.status.busy": "2023-12-09T09:50:15.131676Z",
     "iopub.status.idle": "2023-12-09T09:50:15.138250Z",
     "shell.execute_reply": "2023-12-09T09:50:15.136905Z"
    },
    "papermill": {
     "duration": 0.031598,
     "end_time": "2023-12-09T09:50:15.141150",
     "exception": false,
     "start_time": "2023-12-09T09:50:15.109552",
     "status": "completed"
    },
    "tags": []
   },
   "outputs": [
    {
     "data": {
      "text/plain": [
       "'from sklearn.svm import SVR\\n\\n#scaler = MinMaxScaler()\\nscaler = StandardScaler()\\n\\nsvm = SVR()\\n\\nsvm_pipeline = Pipeline([(\\'scaler\\', StandardScaler()),(\\'regressor\\',svm)])\\nsvm_pipeline.fit(X_train, y_train)\\ny_pred9 = svm_pipeline.predict(X_val)\\n\\nmae = mean_absolute_error(y_val, y_pred9)\\nmse = mean_squared_error(y_val, y_pred9)\\nrmse = mean_squared_error(y_val, y_pred9, squared=False)\\nr2 = r2_score(y_val, y_pred9)\\n\\nprint(f\"Mean Absolute Error: {mae:.2f}\")\\nprint(f\"Mean Squared Error: {mse:.2f}\")\\nprint(f\"Root Mean Squared Error: {rmse:.2f}\")\\nprint(f\"R-squared (R2) Score: {r2:.2f}\")'"
      ]
     },
     "execution_count": 57,
     "metadata": {},
     "output_type": "execute_result"
    }
   ],
   "source": [
    "'''from sklearn.svm import SVR\n",
    "\n",
    "#scaler = MinMaxScaler()\n",
    "scaler = StandardScaler()\n",
    "\n",
    "svm = SVR()\n",
    "\n",
    "svm_pipeline = Pipeline([('scaler', StandardScaler()),('regressor',svm)])\n",
    "svm_pipeline.fit(X_train, y_train)\n",
    "y_pred9 = svm_pipeline.predict(X_val)\n",
    "\n",
    "mae = mean_absolute_error(y_val, y_pred9)\n",
    "mse = mean_squared_error(y_val, y_pred9)\n",
    "rmse = mean_squared_error(y_val, y_pred9, squared=False)\n",
    "r2 = r2_score(y_val, y_pred9)\n",
    "\n",
    "print(f\"Mean Absolute Error: {mae:.2f}\")\n",
    "print(f\"Mean Squared Error: {mse:.2f}\")\n",
    "print(f\"Root Mean Squared Error: {rmse:.2f}\")\n",
    "print(f\"R-squared (R2) Score: {r2:.2f}\")'''"
   ]
  },
  {
   "cell_type": "code",
   "execution_count": 58,
   "id": "53e39ec0",
   "metadata": {
    "execution": {
     "iopub.execute_input": "2023-12-09T09:50:15.185663Z",
     "iopub.status.busy": "2023-12-09T09:50:15.185178Z",
     "iopub.status.idle": "2023-12-09T09:50:15.193373Z",
     "shell.execute_reply": "2023-12-09T09:50:15.192231Z"
    },
    "papermill": {
     "duration": 0.032635,
     "end_time": "2023-12-09T09:50:15.195361",
     "exception": false,
     "start_time": "2023-12-09T09:50:15.162726",
     "status": "completed"
    },
    "tags": []
   },
   "outputs": [
    {
     "data": {
      "text/plain": [
       "'r2_scorer = make_scorer(r2_score)\\ncv_scores = cross_val_score(svm_pipeline, X, y, cv=5,scoring = r2_scorer) \\n\\nprint(\"Cross-Validation R-squared Scores:\", cv_scores)\\nprint(\"Mean R-squared Score:\", cv_scores.mean())'"
      ]
     },
     "execution_count": 58,
     "metadata": {},
     "output_type": "execute_result"
    }
   ],
   "source": [
    "'''r2_scorer = make_scorer(r2_score)\n",
    "cv_scores = cross_val_score(svm_pipeline, X, y, cv=5,scoring = r2_scorer) \n",
    "\n",
    "print(\"Cross-Validation R-squared Scores:\", cv_scores)\n",
    "print(\"Mean R-squared Score:\", cv_scores.mean())'''"
   ]
  },
  {
   "cell_type": "markdown",
   "id": "b0be4cab",
   "metadata": {
    "papermill": {
     "duration": 0.020122,
     "end_time": "2023-12-09T09:50:15.236282",
     "exception": false,
     "start_time": "2023-12-09T09:50:15.216160",
     "status": "completed"
    },
    "tags": []
   },
   "source": [
    "Decision Tree Regressor:"
   ]
  },
  {
   "cell_type": "code",
   "execution_count": 59,
   "id": "a783c311",
   "metadata": {
    "execution": {
     "iopub.execute_input": "2023-12-09T09:50:15.279025Z",
     "iopub.status.busy": "2023-12-09T09:50:15.278600Z",
     "iopub.status.idle": "2023-12-09T09:50:17.258618Z",
     "shell.execute_reply": "2023-12-09T09:50:17.257236Z"
    },
    "papermill": {
     "duration": 2.003971,
     "end_time": "2023-12-09T09:50:17.260614",
     "exception": false,
     "start_time": "2023-12-09T09:50:15.256643",
     "status": "completed"
    },
    "tags": []
   },
   "outputs": [
    {
     "name": "stdout",
     "output_type": "stream",
     "text": [
      "Mean Absolute Error: 3.88\n",
      "Mean Squared Error: 73.17\n",
      "Root Mean Squared Error: 8.55\n",
      "R-squared (R2) Score: 0.89\n"
     ]
    }
   ],
   "source": [
    "from sklearn.tree import DecisionTreeRegressor\n",
    "\n",
    "#scaler = MinMaxScaler()\n",
    "scaler = StandardScaler()\n",
    "\n",
    "dtr = DecisionTreeRegressor()\n",
    "\n",
    "dtr_pipeline = Pipeline([('scaler', StandardScaler()),('regressor',dtr)])\n",
    "dtr_pipeline.fit(X_train, y_train)\n",
    "y_pred10 = dtr_pipeline.predict(X_val)\n",
    "\n",
    "mae = mean_absolute_error(y_val, y_pred10)\n",
    "mse = mean_squared_error(y_val, y_pred10)\n",
    "rmse = mean_squared_error(y_val, y_pred10, squared=False)\n",
    "r2 = r2_score(y_val, y_pred10)\n",
    "\n",
    "print(f\"Mean Absolute Error: {mae:.2f}\")\n",
    "print(f\"Mean Squared Error: {mse:.2f}\")\n",
    "print(f\"Root Mean Squared Error: {rmse:.2f}\")\n",
    "print(f\"R-squared (R2) Score: {r2:.2f}\")"
   ]
  },
  {
   "cell_type": "code",
   "execution_count": 60,
   "id": "97904274",
   "metadata": {
    "execution": {
     "iopub.execute_input": "2023-12-09T09:50:17.303408Z",
     "iopub.status.busy": "2023-12-09T09:50:17.303067Z",
     "iopub.status.idle": "2023-12-09T09:50:26.886585Z",
     "shell.execute_reply": "2023-12-09T09:50:26.885553Z"
    },
    "papermill": {
     "duration": 9.607487,
     "end_time": "2023-12-09T09:50:26.888542",
     "exception": false,
     "start_time": "2023-12-09T09:50:17.281055",
     "status": "completed"
    },
    "tags": []
   },
   "outputs": [
    {
     "name": "stdout",
     "output_type": "stream",
     "text": [
      "Cross-Validation R-squared Scores: [0.87445411 0.90480757 0.91327836 0.8901924  0.89368488]\n",
      "Mean R-squared Score: 0.8952834661696674\n"
     ]
    }
   ],
   "source": [
    "r2_scorer = make_scorer(r2_score)\n",
    "cv_scores = cross_val_score(dtr_pipeline, X, y, cv=5,scoring = r2_scorer) \n",
    "\n",
    "print(\"Cross-Validation R-squared Scores:\", cv_scores)\n",
    "print(\"Mean R-squared Score:\", cv_scores.mean())"
   ]
  },
  {
   "cell_type": "markdown",
   "id": "6811ff86",
   "metadata": {
    "papermill": {
     "duration": 0.021048,
     "end_time": "2023-12-09T09:50:26.929907",
     "exception": false,
     "start_time": "2023-12-09T09:50:26.908859",
     "status": "completed"
    },
    "tags": []
   },
   "source": [
    "Bagging and Boosting:"
   ]
  },
  {
   "cell_type": "code",
   "execution_count": 61,
   "id": "9c9f8301",
   "metadata": {
    "execution": {
     "iopub.execute_input": "2023-12-09T09:50:26.972989Z",
     "iopub.status.busy": "2023-12-09T09:50:26.972612Z",
     "iopub.status.idle": "2023-12-09T09:50:26.979608Z",
     "shell.execute_reply": "2023-12-09T09:50:26.978669Z"
    },
    "papermill": {
     "duration": 0.031063,
     "end_time": "2023-12-09T09:50:26.981471",
     "exception": false,
     "start_time": "2023-12-09T09:50:26.950408",
     "status": "completed"
    },
    "tags": []
   },
   "outputs": [
    {
     "data": {
      "text/plain": [
       "'from sklearn.ensemble import BaggingRegressor, AdaBoostRegressor\\nfrom sklearn.tree import DecisionTreeRegressor\\n\\n#scaler = MinMaxScaler()\\nscaler = StandardScaler()\\n\\nensemble = BaggingRegressor(estimator=AdaBoostRegressor(estimator=DecisionTreeRegressor(max_depth=3)))\\n\\nensemble_pipeline = Pipeline([(\\'scaler\\', StandardScaler()),(\\'regressor\\',ensemble)])\\nensemble_pipeline.fit(X_train, y_train)\\ny_pred11 = ensemble_pipeline.predict(X_val)\\n\\nmae = mean_absolute_error(y_val, y_pred11)\\nmse = mean_squared_error(y_val, y_pred11)\\nrmse = mean_squared_error(y_val, y_pred11, squared=False)\\nr2 = r2_score(y_val, y_pred11)\\n\\nprint(f\"Mean Absolute Error: {mae:.2f}\")\\nprint(f\"Mean Squared Error: {mse:.2f}\")\\nprint(f\"Root Mean Squared Error: {rmse:.2f}\")\\nprint(f\"R-squared (R2) Score: {r2:.2f}\")'"
      ]
     },
     "execution_count": 61,
     "metadata": {},
     "output_type": "execute_result"
    }
   ],
   "source": [
    "'''from sklearn.ensemble import BaggingRegressor, AdaBoostRegressor\n",
    "from sklearn.tree import DecisionTreeRegressor\n",
    "\n",
    "#scaler = MinMaxScaler()\n",
    "scaler = StandardScaler()\n",
    "\n",
    "ensemble = BaggingRegressor(estimator=AdaBoostRegressor(estimator=DecisionTreeRegressor(max_depth=3)))\n",
    "\n",
    "ensemble_pipeline = Pipeline([('scaler', StandardScaler()),('regressor',ensemble)])\n",
    "ensemble_pipeline.fit(X_train, y_train)\n",
    "y_pred11 = ensemble_pipeline.predict(X_val)\n",
    "\n",
    "mae = mean_absolute_error(y_val, y_pred11)\n",
    "mse = mean_squared_error(y_val, y_pred11)\n",
    "rmse = mean_squared_error(y_val, y_pred11, squared=False)\n",
    "r2 = r2_score(y_val, y_pred11)\n",
    "\n",
    "print(f\"Mean Absolute Error: {mae:.2f}\")\n",
    "print(f\"Mean Squared Error: {mse:.2f}\")\n",
    "print(f\"Root Mean Squared Error: {rmse:.2f}\")\n",
    "print(f\"R-squared (R2) Score: {r2:.2f}\")'''"
   ]
  },
  {
   "cell_type": "code",
   "execution_count": 62,
   "id": "9e7527ea",
   "metadata": {
    "execution": {
     "iopub.execute_input": "2023-12-09T09:50:27.025981Z",
     "iopub.status.busy": "2023-12-09T09:50:27.025637Z",
     "iopub.status.idle": "2023-12-09T09:50:27.031683Z",
     "shell.execute_reply": "2023-12-09T09:50:27.030781Z"
    },
    "papermill": {
     "duration": 0.030191,
     "end_time": "2023-12-09T09:50:27.033872",
     "exception": false,
     "start_time": "2023-12-09T09:50:27.003681",
     "status": "completed"
    },
    "tags": []
   },
   "outputs": [
    {
     "data": {
      "text/plain": [
       "'r2_scorer = make_scorer(r2_score)\\ncv_scores = cross_val_score(ensemble_pipeline, X, y, cv=5,scoring = r2_scorer) \\n\\nprint(\"Cross-Validation R-squared Scores:\", cv_scores)\\nprint(\"Mean R-squared Score:\", cv_scores.mean())'"
      ]
     },
     "execution_count": 62,
     "metadata": {},
     "output_type": "execute_result"
    }
   ],
   "source": [
    "'''r2_scorer = make_scorer(r2_score)\n",
    "cv_scores = cross_val_score(ensemble_pipeline, X, y, cv=5,scoring = r2_scorer) \n",
    "\n",
    "print(\"Cross-Validation R-squared Scores:\", cv_scores)\n",
    "print(\"Mean R-squared Score:\", cv_scores.mean())'''"
   ]
  },
  {
   "cell_type": "markdown",
   "id": "09d743a6",
   "metadata": {
    "papermill": {
     "duration": 0.02029,
     "end_time": "2023-12-09T09:50:27.075578",
     "exception": false,
     "start_time": "2023-12-09T09:50:27.055288",
     "status": "completed"
    },
    "tags": []
   },
   "source": [
    "Random Forest Regressor:"
   ]
  },
  {
   "cell_type": "code",
   "execution_count": 63,
   "id": "9605318e",
   "metadata": {
    "execution": {
     "iopub.execute_input": "2023-12-09T09:50:27.118040Z",
     "iopub.status.busy": "2023-12-09T09:50:27.117420Z",
     "iopub.status.idle": "2023-12-09T09:52:27.593057Z",
     "shell.execute_reply": "2023-12-09T09:52:27.592013Z"
    },
    "papermill": {
     "duration": 120.519227,
     "end_time": "2023-12-09T09:52:27.615190",
     "exception": false,
     "start_time": "2023-12-09T09:50:27.095963",
     "status": "completed"
    },
    "tags": []
   },
   "outputs": [
    {
     "name": "stdout",
     "output_type": "stream",
     "text": [
      "Mean Absolute Error: 2.81\n",
      "Mean Squared Error: 43.50\n",
      "Root Mean Squared Error: 6.60\n",
      "R-squared (R2) Score: 0.93\n"
     ]
    }
   ],
   "source": [
    "from sklearn.ensemble import RandomForestRegressor\n",
    "\n",
    "#scaler = MinMaxScaler()\n",
    "scaler = StandardScaler()\n",
    "\n",
    "rf = RandomForestRegressor(n_estimators=100, random_state=42)\n",
    "\n",
    "rf_pipeline = Pipeline([('scaler', scaler),('regressor',rf)])\n",
    "rf_pipeline.fit(X_train, y_train)\n",
    "y_pred12 = rf_pipeline.predict(X_val)\n",
    "\n",
    "mae = mean_absolute_error(y_val, y_pred12)\n",
    "mse = mean_squared_error(y_val, y_pred12)\n",
    "rmse = mean_squared_error(y_val, y_pred12, squared=False)\n",
    "r2 = r2_score(y_val, y_pred12)\n",
    "\n",
    "print(f\"Mean Absolute Error: {mae:.2f}\")\n",
    "print(f\"Mean Squared Error: {mse:.2f}\")\n",
    "print(f\"Root Mean Squared Error: {rmse:.2f}\")\n",
    "print(f\"R-squared (R2) Score: {r2:.2f}\")"
   ]
  },
  {
   "cell_type": "code",
   "execution_count": 64,
   "id": "06895f9c",
   "metadata": {
    "execution": {
     "iopub.execute_input": "2023-12-09T09:52:27.657113Z",
     "iopub.status.busy": "2023-12-09T09:52:27.656803Z",
     "iopub.status.idle": "2023-12-09T10:02:28.379663Z",
     "shell.execute_reply": "2023-12-09T10:02:28.378307Z"
    },
    "papermill": {
     "duration": 600.765511,
     "end_time": "2023-12-09T10:02:28.401196",
     "exception": false,
     "start_time": "2023-12-09T09:52:27.635685",
     "status": "completed"
    },
    "tags": []
   },
   "outputs": [
    {
     "name": "stdout",
     "output_type": "stream",
     "text": [
      "Cross-Validation R-squared Scores: [0.90838933 0.94674761 0.95529696 0.94107558 0.94736888]\n",
      "Mean R-squared Score: 0.9397756741126182\n"
     ]
    }
   ],
   "source": [
    "r2_scorer = make_scorer(r2_score)\n",
    "cv_scores = cross_val_score(rf_pipeline, X, y, cv=5,scoring = r2_scorer) \n",
    "\n",
    "print(\"Cross-Validation R-squared Scores:\", cv_scores)\n",
    "print(\"Mean R-squared Score:\", cv_scores.mean())"
   ]
  },
  {
   "cell_type": "markdown",
   "id": "b4d545cb",
   "metadata": {
    "papermill": {
     "duration": 0.020749,
     "end_time": "2023-12-09T10:02:28.443021",
     "exception": false,
     "start_time": "2023-12-09T10:02:28.422272",
     "status": "completed"
    },
    "tags": []
   },
   "source": [
    "Gradient Boosting:"
   ]
  },
  {
   "cell_type": "code",
   "execution_count": 65,
   "id": "a4c88229",
   "metadata": {
    "execution": {
     "iopub.execute_input": "2023-12-09T10:02:28.487561Z",
     "iopub.status.busy": "2023-12-09T10:02:28.486716Z",
     "iopub.status.idle": "2023-12-09T10:02:56.417890Z",
     "shell.execute_reply": "2023-12-09T10:02:56.417143Z"
    },
    "papermill": {
     "duration": 27.955926,
     "end_time": "2023-12-09T10:02:56.419937",
     "exception": false,
     "start_time": "2023-12-09T10:02:28.464011",
     "status": "completed"
    },
    "tags": []
   },
   "outputs": [
    {
     "name": "stdout",
     "output_type": "stream",
     "text": [
      "Mean Absolute Error: 3.07\n",
      "Mean Squared Error: 45.02\n",
      "Root Mean Squared Error: 6.71\n",
      "R-squared (R2) Score: 0.93\n"
     ]
    }
   ],
   "source": [
    "from sklearn.ensemble import GradientBoostingRegressor\n",
    "\n",
    "#scaler = MinMaxScaler()\n",
    "scaler = StandardScaler()\n",
    "\n",
    "gbr = GradientBoostingRegressor(n_estimators=100, random_state=42)\n",
    "\n",
    "gbr_pipeline = Pipeline([('scaler', scaler),('regressor',gbr)])\n",
    "gbr_pipeline.fit(X_train, y_train)\n",
    "y_pred13 = gbr_pipeline.predict(X_val)\n",
    "\n",
    "mae = mean_absolute_error(y_val, y_pred13)\n",
    "mse = mean_squared_error(y_val, y_pred13)\n",
    "rmse = mean_squared_error(y_val, y_pred13, squared=False)\n",
    "r2 = r2_score(y_val, y_pred13)\n",
    "\n",
    "print(f\"Mean Absolute Error: {mae:.2f}\")\n",
    "print(f\"Mean Squared Error: {mse:.2f}\")\n",
    "print(f\"Root Mean Squared Error: {rmse:.2f}\")\n",
    "print(f\"R-squared (R2) Score: {r2:.2f}\")"
   ]
  },
  {
   "cell_type": "code",
   "execution_count": 66,
   "id": "acb65ed7",
   "metadata": {
    "execution": {
     "iopub.execute_input": "2023-12-09T10:02:56.470768Z",
     "iopub.status.busy": "2023-12-09T10:02:56.470391Z",
     "iopub.status.idle": "2023-12-09T10:05:13.908945Z",
     "shell.execute_reply": "2023-12-09T10:05:13.907953Z"
    },
    "papermill": {
     "duration": 137.485179,
     "end_time": "2023-12-09T10:05:13.932205",
     "exception": false,
     "start_time": "2023-12-09T10:02:56.447026",
     "status": "completed"
    },
    "tags": []
   },
   "outputs": [
    {
     "name": "stdout",
     "output_type": "stream",
     "text": [
      "Cross-Validation R-squared Scores: [0.8912748  0.94389117 0.9481006  0.93038157 0.94170127]\n",
      "Mean R-squared Score: 0.9310698822614807\n"
     ]
    }
   ],
   "source": [
    "r2_scorer = make_scorer(r2_score)\n",
    "cv_scores = cross_val_score(gbr_pipeline, X, y, cv=5,scoring = r2_scorer) \n",
    "\n",
    "print(\"Cross-Validation R-squared Scores:\", cv_scores)\n",
    "print(\"Mean R-squared Score:\", cv_scores.mean())"
   ]
  },
  {
   "cell_type": "markdown",
   "id": "dd6ebf26",
   "metadata": {
    "papermill": {
     "duration": 0.021098,
     "end_time": "2023-12-09T10:05:13.973872",
     "exception": false,
     "start_time": "2023-12-09T10:05:13.952774",
     "status": "completed"
    },
    "tags": []
   },
   "source": [
    "Stacking Regressor (KNN, Random Forest, GradientBoosting) "
   ]
  },
  {
   "cell_type": "code",
   "execution_count": 67,
   "id": "3c9eba46",
   "metadata": {
    "execution": {
     "iopub.execute_input": "2023-12-09T10:05:14.017901Z",
     "iopub.status.busy": "2023-12-09T10:05:14.016800Z",
     "iopub.status.idle": "2023-12-09T10:18:10.703148Z",
     "shell.execute_reply": "2023-12-09T10:18:10.702306Z"
    },
    "papermill": {
     "duration": 776.735398,
     "end_time": "2023-12-09T10:18:10.730044",
     "exception": false,
     "start_time": "2023-12-09T10:05:13.994646",
     "status": "completed"
    },
    "tags": []
   },
   "outputs": [
    {
     "name": "stdout",
     "output_type": "stream",
     "text": [
      "Mean Absolute Error: 2.80\n",
      "Mean Squared Error: 40.75\n",
      "Root Mean Squared Error: 6.38\n",
      "R-squared (R2) Score: 0.94\n"
     ]
    }
   ],
   "source": [
    "from sklearn.ensemble import StackingRegressor\n",
    "from sklearn.ensemble import GradientBoostingRegressor\n",
    "from sklearn.neighbors import KNeighborsRegressor\n",
    "from sklearn.ensemble import RandomForestRegressor\n",
    "\n",
    "#scaler = MinMaxScaler()\n",
    "scaler = StandardScaler()\n",
    "\n",
    "gbr = GradientBoostingRegressor(n_estimators=100, random_state=42)\n",
    "knn = KNeighborsRegressor(n_neighbors=best_n)\n",
    "rf = RandomForestRegressor(n_estimators=100, random_state=42)\n",
    "\n",
    "base_regressors = [('random_forest', rf), ('gradient_boosting', gbr),\n",
    "                   ('k_nearest_neighbours', knn)]\n",
    "\n",
    "stack = StackingRegressor(estimators=base_regressors, final_estimator = LinearRegression())\n",
    "\n",
    "stack_pipeline = Pipeline([('scaler', scaler),('stacking_regressor', stack)])\n",
    "stack_pipeline.fit(X_train, y_train)\n",
    "y_pred13 = stack_pipeline.predict(X_val)\n",
    "\n",
    "mae = mean_absolute_error(y_val, y_pred13)\n",
    "mse = mean_squared_error(y_val, y_pred13)\n",
    "rmse = mean_squared_error(y_val, y_pred13, squared=False)\n",
    "r2 = r2_score(y_val, y_pred13)\n",
    "\n",
    "print(f\"Mean Absolute Error: {mae:.2f}\")\n",
    "print(f\"Mean Squared Error: {mse:.2f}\")\n",
    "print(f\"Root Mean Squared Error: {rmse:.2f}\")\n",
    "print(f\"R-squared (R2) Score: {r2:.2f}\")"
   ]
  },
  {
   "cell_type": "code",
   "execution_count": 68,
   "id": "aa976829",
   "metadata": {
    "execution": {
     "iopub.execute_input": "2023-12-09T10:18:10.785219Z",
     "iopub.status.busy": "2023-12-09T10:18:10.784865Z",
     "iopub.status.idle": "2023-12-09T11:22:24.469044Z",
     "shell.execute_reply": "2023-12-09T11:22:24.468267Z"
    },
    "papermill": {
     "duration": 3853.739376,
     "end_time": "2023-12-09T11:22:24.496541",
     "exception": false,
     "start_time": "2023-12-09T10:18:10.757165",
     "status": "completed"
    },
    "tags": []
   },
   "outputs": [
    {
     "name": "stdout",
     "output_type": "stream",
     "text": [
      "Cross-Validation R-squared Scores: [0.90724857 0.9505196  0.95717095 0.94200717 0.95007284]\n",
      "Mean R-squared Score: 0.9414038260890571\n"
     ]
    }
   ],
   "source": [
    "r2_scorer = make_scorer(r2_score)\n",
    "cv_scores = cross_val_score(stack_pipeline, X, y, cv=5,scoring = r2_scorer) \n",
    "\n",
    "print(\"Cross-Validation R-squared Scores:\", cv_scores)\n",
    "print(\"Mean R-squared Score:\", cv_scores.mean())"
   ]
  },
  {
   "cell_type": "markdown",
   "id": "c042e83b",
   "metadata": {
    "papermill": {
     "duration": 0.027316,
     "end_time": "2023-12-09T11:22:24.550483",
     "exception": false,
     "start_time": "2023-12-09T11:22:24.523167",
     "status": "completed"
    },
    "tags": []
   },
   "source": [
    "Submission:"
   ]
  },
  {
   "cell_type": "code",
   "execution_count": 69,
   "id": "5d524632",
   "metadata": {
    "execution": {
     "iopub.execute_input": "2023-12-09T11:22:24.601300Z",
     "iopub.status.busy": "2023-12-09T11:22:24.600843Z",
     "iopub.status.idle": "2023-12-09T11:22:24.606565Z",
     "shell.execute_reply": "2023-12-09T11:22:24.604681Z"
    },
    "papermill": {
     "duration": 0.031607,
     "end_time": "2023-12-09T11:22:24.608759",
     "exception": false,
     "start_time": "2023-12-09T11:22:24.577152",
     "status": "completed"
    },
    "tags": []
   },
   "outputs": [],
   "source": [
    "#test_df=pd.read_csv('/kaggle/input/taxi-fare-guru-total-amount-prediction-challenge/test.csv')\n",
    "#cols = ['passenger_count', 'trip_distance', 'RatecodeID', 'extra', 'tip_amount', 'tolls_amount', 'improvement_surcharge', 'congestion_surcharge', 'Airport_fee']\n",
    "#imputer = SimpleImputer(strategy='mean')\n",
    "#test_df[cols] = imputer.fit_transform(test_df[cols])\n",
    "\n",
    "#X_Test = test_df.drop(columns=['payment_type','store_and_fwd_flag','tpep_pickup_datetime', 'tpep_dropoff_datetime'])\n",
    "#y_pred3 = model.predict(X_Test)"
   ]
  },
  {
   "cell_type": "code",
   "execution_count": 70,
   "id": "34947400",
   "metadata": {
    "execution": {
     "iopub.execute_input": "2023-12-09T11:22:24.653461Z",
     "iopub.status.busy": "2023-12-09T11:22:24.652950Z",
     "iopub.status.idle": "2023-12-09T11:22:38.373835Z",
     "shell.execute_reply": "2023-12-09T11:22:38.372985Z"
    },
    "papermill": {
     "duration": 13.746175,
     "end_time": "2023-12-09T11:22:38.376397",
     "exception": false,
     "start_time": "2023-12-09T11:22:24.630222",
     "status": "completed"
    },
    "tags": []
   },
   "outputs": [],
   "source": [
    "final_pred = stack_pipeline.predict(test)"
   ]
  },
  {
   "cell_type": "code",
   "execution_count": 71,
   "id": "7526607a",
   "metadata": {
    "execution": {
     "iopub.execute_input": "2023-12-09T11:22:38.437140Z",
     "iopub.status.busy": "2023-12-09T11:22:38.435571Z",
     "iopub.status.idle": "2023-12-09T11:22:38.466806Z",
     "shell.execute_reply": "2023-12-09T11:22:38.465702Z"
    },
    "papermill": {
     "duration": 0.065276,
     "end_time": "2023-12-09T11:22:38.469153",
     "exception": false,
     "start_time": "2023-12-09T11:22:38.403877",
     "status": "completed"
    },
    "tags": []
   },
   "outputs": [
    {
     "data": {
      "text/html": [
       "<div>\n",
       "<style scoped>\n",
       "    .dataframe tbody tr th:only-of-type {\n",
       "        vertical-align: middle;\n",
       "    }\n",
       "\n",
       "    .dataframe tbody tr th {\n",
       "        vertical-align: top;\n",
       "    }\n",
       "\n",
       "    .dataframe thead th {\n",
       "        text-align: right;\n",
       "    }\n",
       "</style>\n",
       "<table border=\"1\" class=\"dataframe\">\n",
       "  <thead>\n",
       "    <tr style=\"text-align: right;\">\n",
       "      <th></th>\n",
       "      <th>passenger_count</th>\n",
       "      <th>trip_distance</th>\n",
       "      <th>PULocationID</th>\n",
       "      <th>DOLocationID</th>\n",
       "      <th>extra</th>\n",
       "      <th>tip_amount</th>\n",
       "      <th>tolls_amount</th>\n",
       "      <th>improvement_surcharge</th>\n",
       "      <th>congestion_surcharge</th>\n",
       "      <th>Airport_fee</th>\n",
       "      <th>...</th>\n",
       "      <th>VendorID_2</th>\n",
       "      <th>RatecodeID_1.0</th>\n",
       "      <th>RatecodeID_1.51830715769907</th>\n",
       "      <th>RatecodeID_2.0</th>\n",
       "      <th>RatecodeID_3.0</th>\n",
       "      <th>RatecodeID_4.0</th>\n",
       "      <th>RatecodeID_5.0</th>\n",
       "      <th>RatecodeID_99.0</th>\n",
       "      <th>RatecodeID_1.5670143713319924</th>\n",
       "      <th>RatecodeID_6.0</th>\n",
       "    </tr>\n",
       "  </thead>\n",
       "  <tbody>\n",
       "    <tr>\n",
       "      <th>0</th>\n",
       "      <td>1.0</td>\n",
       "      <td>4.95</td>\n",
       "      <td>20</td>\n",
       "      <td>3</td>\n",
       "      <td>1.0</td>\n",
       "      <td>6.067612</td>\n",
       "      <td>0.0</td>\n",
       "      <td>1.0</td>\n",
       "      <td>2.5</td>\n",
       "      <td>0.0</td>\n",
       "      <td>...</td>\n",
       "      <td>0.0</td>\n",
       "      <td>1.0</td>\n",
       "      <td>0</td>\n",
       "      <td>0.0</td>\n",
       "      <td>0.0</td>\n",
       "      <td>0.0</td>\n",
       "      <td>0.0</td>\n",
       "      <td>0.0</td>\n",
       "      <td>0.0</td>\n",
       "      <td>0.0</td>\n",
       "    </tr>\n",
       "    <tr>\n",
       "      <th>1</th>\n",
       "      <td>1.0</td>\n",
       "      <td>2.10</td>\n",
       "      <td>9</td>\n",
       "      <td>81</td>\n",
       "      <td>2.5</td>\n",
       "      <td>6.191269</td>\n",
       "      <td>0.0</td>\n",
       "      <td>1.0</td>\n",
       "      <td>2.5</td>\n",
       "      <td>0.0</td>\n",
       "      <td>...</td>\n",
       "      <td>0.0</td>\n",
       "      <td>1.0</td>\n",
       "      <td>0</td>\n",
       "      <td>0.0</td>\n",
       "      <td>0.0</td>\n",
       "      <td>0.0</td>\n",
       "      <td>0.0</td>\n",
       "      <td>0.0</td>\n",
       "      <td>0.0</td>\n",
       "      <td>0.0</td>\n",
       "    </tr>\n",
       "    <tr>\n",
       "      <th>2</th>\n",
       "      <td>1.0</td>\n",
       "      <td>0.95</td>\n",
       "      <td>92</td>\n",
       "      <td>90</td>\n",
       "      <td>2.5</td>\n",
       "      <td>3.983872</td>\n",
       "      <td>0.0</td>\n",
       "      <td>1.0</td>\n",
       "      <td>2.5</td>\n",
       "      <td>0.0</td>\n",
       "      <td>...</td>\n",
       "      <td>0.0</td>\n",
       "      <td>1.0</td>\n",
       "      <td>0</td>\n",
       "      <td>0.0</td>\n",
       "      <td>0.0</td>\n",
       "      <td>0.0</td>\n",
       "      <td>0.0</td>\n",
       "      <td>0.0</td>\n",
       "      <td>0.0</td>\n",
       "      <td>0.0</td>\n",
       "    </tr>\n",
       "    <tr>\n",
       "      <th>3</th>\n",
       "      <td>1.0</td>\n",
       "      <td>0.80</td>\n",
       "      <td>19</td>\n",
       "      <td>102</td>\n",
       "      <td>3.5</td>\n",
       "      <td>6.839341</td>\n",
       "      <td>0.0</td>\n",
       "      <td>1.0</td>\n",
       "      <td>2.5</td>\n",
       "      <td>0.0</td>\n",
       "      <td>...</td>\n",
       "      <td>0.0</td>\n",
       "      <td>1.0</td>\n",
       "      <td>0</td>\n",
       "      <td>0.0</td>\n",
       "      <td>0.0</td>\n",
       "      <td>0.0</td>\n",
       "      <td>0.0</td>\n",
       "      <td>0.0</td>\n",
       "      <td>0.0</td>\n",
       "      <td>0.0</td>\n",
       "    </tr>\n",
       "    <tr>\n",
       "      <th>4</th>\n",
       "      <td>1.0</td>\n",
       "      <td>4.01</td>\n",
       "      <td>131</td>\n",
       "      <td>229</td>\n",
       "      <td>0.0</td>\n",
       "      <td>1.468943</td>\n",
       "      <td>0.0</td>\n",
       "      <td>1.0</td>\n",
       "      <td>0.0</td>\n",
       "      <td>0.0</td>\n",
       "      <td>...</td>\n",
       "      <td>0.0</td>\n",
       "      <td>1.0</td>\n",
       "      <td>0</td>\n",
       "      <td>0.0</td>\n",
       "      <td>0.0</td>\n",
       "      <td>0.0</td>\n",
       "      <td>0.0</td>\n",
       "      <td>0.0</td>\n",
       "      <td>0.0</td>\n",
       "      <td>0.0</td>\n",
       "    </tr>\n",
       "  </tbody>\n",
       "</table>\n",
       "<p>5 rows × 29 columns</p>\n",
       "</div>"
      ],
      "text/plain": [
       "   passenger_count  trip_distance  PULocationID  DOLocationID  extra  \\\n",
       "0              1.0           4.95            20             3    1.0   \n",
       "1              1.0           2.10             9            81    2.5   \n",
       "2              1.0           0.95            92            90    2.5   \n",
       "3              1.0           0.80            19           102    3.5   \n",
       "4              1.0           4.01           131           229    0.0   \n",
       "\n",
       "   tip_amount  tolls_amount  improvement_surcharge  congestion_surcharge  \\\n",
       "0    6.067612           0.0                    1.0                   2.5   \n",
       "1    6.191269           0.0                    1.0                   2.5   \n",
       "2    3.983872           0.0                    1.0                   2.5   \n",
       "3    6.839341           0.0                    1.0                   2.5   \n",
       "4    1.468943           0.0                    1.0                   0.0   \n",
       "\n",
       "   Airport_fee  ...  VendorID_2  RatecodeID_1.0  RatecodeID_1.51830715769907  \\\n",
       "0          0.0  ...         0.0             1.0                            0   \n",
       "1          0.0  ...         0.0             1.0                            0   \n",
       "2          0.0  ...         0.0             1.0                            0   \n",
       "3          0.0  ...         0.0             1.0                            0   \n",
       "4          0.0  ...         0.0             1.0                            0   \n",
       "\n",
       "   RatecodeID_2.0  RatecodeID_3.0  RatecodeID_4.0  RatecodeID_5.0  \\\n",
       "0             0.0             0.0             0.0             0.0   \n",
       "1             0.0             0.0             0.0             0.0   \n",
       "2             0.0             0.0             0.0             0.0   \n",
       "3             0.0             0.0             0.0             0.0   \n",
       "4             0.0             0.0             0.0             0.0   \n",
       "\n",
       "   RatecodeID_99.0  RatecodeID_1.5670143713319924  RatecodeID_6.0  \n",
       "0              0.0                            0.0             0.0  \n",
       "1              0.0                            0.0             0.0  \n",
       "2              0.0                            0.0             0.0  \n",
       "3              0.0                            0.0             0.0  \n",
       "4              0.0                            0.0             0.0  \n",
       "\n",
       "[5 rows x 29 columns]"
      ]
     },
     "execution_count": 71,
     "metadata": {},
     "output_type": "execute_result"
    }
   ],
   "source": [
    "test.head()"
   ]
  },
  {
   "cell_type": "code",
   "execution_count": 72,
   "id": "d40a8b63",
   "metadata": {
    "execution": {
     "iopub.execute_input": "2023-12-09T11:22:38.522839Z",
     "iopub.status.busy": "2023-12-09T11:22:38.522367Z",
     "iopub.status.idle": "2023-12-09T11:22:38.547636Z",
     "shell.execute_reply": "2023-12-09T11:22:38.546671Z"
    },
    "papermill": {
     "duration": 0.051949,
     "end_time": "2023-12-09T11:22:38.549954",
     "exception": false,
     "start_time": "2023-12-09T11:22:38.498005",
     "status": "completed"
    },
    "tags": []
   },
   "outputs": [
    {
     "data": {
      "text/html": [
       "<div>\n",
       "<style scoped>\n",
       "    .dataframe tbody tr th:only-of-type {\n",
       "        vertical-align: middle;\n",
       "    }\n",
       "\n",
       "    .dataframe tbody tr th {\n",
       "        vertical-align: top;\n",
       "    }\n",
       "\n",
       "    .dataframe thead th {\n",
       "        text-align: right;\n",
       "    }\n",
       "</style>\n",
       "<table border=\"1\" class=\"dataframe\">\n",
       "  <thead>\n",
       "    <tr style=\"text-align: right;\">\n",
       "      <th></th>\n",
       "      <th>passenger_count</th>\n",
       "      <th>trip_distance</th>\n",
       "      <th>PULocationID</th>\n",
       "      <th>DOLocationID</th>\n",
       "      <th>extra</th>\n",
       "      <th>tip_amount</th>\n",
       "      <th>tolls_amount</th>\n",
       "      <th>improvement_surcharge</th>\n",
       "      <th>congestion_surcharge</th>\n",
       "      <th>Airport_fee</th>\n",
       "      <th>...</th>\n",
       "      <th>VendorID_2</th>\n",
       "      <th>RatecodeID_1.0</th>\n",
       "      <th>RatecodeID_1.51830715769907</th>\n",
       "      <th>RatecodeID_2.0</th>\n",
       "      <th>RatecodeID_3.0</th>\n",
       "      <th>RatecodeID_4.0</th>\n",
       "      <th>RatecodeID_5.0</th>\n",
       "      <th>RatecodeID_99.0</th>\n",
       "      <th>RatecodeID_1.5670143713319924</th>\n",
       "      <th>RatecodeID_6.0</th>\n",
       "    </tr>\n",
       "  </thead>\n",
       "  <tbody>\n",
       "    <tr>\n",
       "      <th>0</th>\n",
       "      <td>1.0</td>\n",
       "      <td>2.14</td>\n",
       "      <td>120</td>\n",
       "      <td>9</td>\n",
       "      <td>2.5</td>\n",
       "      <td>7.165589</td>\n",
       "      <td>0.0</td>\n",
       "      <td>1.0</td>\n",
       "      <td>2.5</td>\n",
       "      <td>0.0</td>\n",
       "      <td>...</td>\n",
       "      <td>0.0</td>\n",
       "      <td>1.0</td>\n",
       "      <td>0.0</td>\n",
       "      <td>0.0</td>\n",
       "      <td>0.0</td>\n",
       "      <td>0.0</td>\n",
       "      <td>0.0</td>\n",
       "      <td>0.0</td>\n",
       "      <td>0</td>\n",
       "      <td>0</td>\n",
       "    </tr>\n",
       "    <tr>\n",
       "      <th>1</th>\n",
       "      <td>1.0</td>\n",
       "      <td>2.70</td>\n",
       "      <td>15</td>\n",
       "      <td>215</td>\n",
       "      <td>3.5</td>\n",
       "      <td>6.067401</td>\n",
       "      <td>0.0</td>\n",
       "      <td>1.0</td>\n",
       "      <td>2.5</td>\n",
       "      <td>0.0</td>\n",
       "      <td>...</td>\n",
       "      <td>0.0</td>\n",
       "      <td>1.0</td>\n",
       "      <td>0.0</td>\n",
       "      <td>0.0</td>\n",
       "      <td>0.0</td>\n",
       "      <td>0.0</td>\n",
       "      <td>0.0</td>\n",
       "      <td>0.0</td>\n",
       "      <td>0</td>\n",
       "      <td>0</td>\n",
       "    </tr>\n",
       "    <tr>\n",
       "      <th>2</th>\n",
       "      <td>1.0</td>\n",
       "      <td>1.15</td>\n",
       "      <td>167</td>\n",
       "      <td>223</td>\n",
       "      <td>0.0</td>\n",
       "      <td>4.111547</td>\n",
       "      <td>0.0</td>\n",
       "      <td>1.0</td>\n",
       "      <td>2.5</td>\n",
       "      <td>0.0</td>\n",
       "      <td>...</td>\n",
       "      <td>0.0</td>\n",
       "      <td>1.0</td>\n",
       "      <td>0.0</td>\n",
       "      <td>0.0</td>\n",
       "      <td>0.0</td>\n",
       "      <td>0.0</td>\n",
       "      <td>0.0</td>\n",
       "      <td>0.0</td>\n",
       "      <td>0</td>\n",
       "      <td>0</td>\n",
       "    </tr>\n",
       "    <tr>\n",
       "      <th>3</th>\n",
       "      <td>1.0</td>\n",
       "      <td>0.40</td>\n",
       "      <td>128</td>\n",
       "      <td>239</td>\n",
       "      <td>2.5</td>\n",
       "      <td>6.411079</td>\n",
       "      <td>0.0</td>\n",
       "      <td>1.0</td>\n",
       "      <td>2.5</td>\n",
       "      <td>0.0</td>\n",
       "      <td>...</td>\n",
       "      <td>0.0</td>\n",
       "      <td>1.0</td>\n",
       "      <td>0.0</td>\n",
       "      <td>0.0</td>\n",
       "      <td>0.0</td>\n",
       "      <td>0.0</td>\n",
       "      <td>0.0</td>\n",
       "      <td>0.0</td>\n",
       "      <td>0</td>\n",
       "      <td>0</td>\n",
       "    </tr>\n",
       "    <tr>\n",
       "      <th>4</th>\n",
       "      <td>3.0</td>\n",
       "      <td>1.10</td>\n",
       "      <td>203</td>\n",
       "      <td>52</td>\n",
       "      <td>1.0</td>\n",
       "      <td>4.769377</td>\n",
       "      <td>0.0</td>\n",
       "      <td>1.0</td>\n",
       "      <td>2.5</td>\n",
       "      <td>0.0</td>\n",
       "      <td>...</td>\n",
       "      <td>0.0</td>\n",
       "      <td>1.0</td>\n",
       "      <td>0.0</td>\n",
       "      <td>0.0</td>\n",
       "      <td>0.0</td>\n",
       "      <td>0.0</td>\n",
       "      <td>0.0</td>\n",
       "      <td>0.0</td>\n",
       "      <td>0</td>\n",
       "      <td>0</td>\n",
       "    </tr>\n",
       "  </tbody>\n",
       "</table>\n",
       "<p>5 rows × 29 columns</p>\n",
       "</div>"
      ],
      "text/plain": [
       "   passenger_count  trip_distance  PULocationID  DOLocationID  extra  \\\n",
       "0              1.0           2.14           120             9    2.5   \n",
       "1              1.0           2.70            15           215    3.5   \n",
       "2              1.0           1.15           167           223    0.0   \n",
       "3              1.0           0.40           128           239    2.5   \n",
       "4              3.0           1.10           203            52    1.0   \n",
       "\n",
       "   tip_amount  tolls_amount  improvement_surcharge  congestion_surcharge  \\\n",
       "0    7.165589           0.0                    1.0                   2.5   \n",
       "1    6.067401           0.0                    1.0                   2.5   \n",
       "2    4.111547           0.0                    1.0                   2.5   \n",
       "3    6.411079           0.0                    1.0                   2.5   \n",
       "4    4.769377           0.0                    1.0                   2.5   \n",
       "\n",
       "   Airport_fee  ...  VendorID_2  RatecodeID_1.0  RatecodeID_1.51830715769907  \\\n",
       "0          0.0  ...         0.0             1.0                          0.0   \n",
       "1          0.0  ...         0.0             1.0                          0.0   \n",
       "2          0.0  ...         0.0             1.0                          0.0   \n",
       "3          0.0  ...         0.0             1.0                          0.0   \n",
       "4          0.0  ...         0.0             1.0                          0.0   \n",
       "\n",
       "   RatecodeID_2.0  RatecodeID_3.0  RatecodeID_4.0  RatecodeID_5.0  \\\n",
       "0             0.0             0.0             0.0             0.0   \n",
       "1             0.0             0.0             0.0             0.0   \n",
       "2             0.0             0.0             0.0             0.0   \n",
       "3             0.0             0.0             0.0             0.0   \n",
       "4             0.0             0.0             0.0             0.0   \n",
       "\n",
       "   RatecodeID_99.0  RatecodeID_1.5670143713319924  RatecodeID_6.0  \n",
       "0              0.0                              0               0  \n",
       "1              0.0                              0               0  \n",
       "2              0.0                              0               0  \n",
       "3              0.0                              0               0  \n",
       "4              0.0                              0               0  \n",
       "\n",
       "[5 rows x 29 columns]"
      ]
     },
     "execution_count": 72,
     "metadata": {},
     "output_type": "execute_result"
    }
   ],
   "source": [
    "X.head()"
   ]
  },
  {
   "cell_type": "code",
   "execution_count": 73,
   "id": "1d8b0a97",
   "metadata": {
    "execution": {
     "iopub.execute_input": "2023-12-09T11:22:38.597584Z",
     "iopub.status.busy": "2023-12-09T11:22:38.597158Z",
     "iopub.status.idle": "2023-12-09T11:22:38.715667Z",
     "shell.execute_reply": "2023-12-09T11:22:38.714159Z"
    },
    "papermill": {
     "duration": 0.146033,
     "end_time": "2023-12-09T11:22:38.718968",
     "exception": false,
     "start_time": "2023-12-09T11:22:38.572935",
     "status": "completed"
    },
    "tags": []
   },
   "outputs": [],
   "source": [
    "submission = pd.DataFrame(columns = [\"ID\",\"total_amount\"])\n",
    "submission[\"ID\"] = [i for i in range(1,len(final_pred)+1)]\n",
    "submission[\"total_amount\"] = pd.DataFrame(final_pred)\n",
    "submission.to_csv('submission.csv',index=False)"
   ]
  },
  {
   "cell_type": "code",
   "execution_count": 74,
   "id": "6c69034b",
   "metadata": {
    "execution": {
     "iopub.execute_input": "2023-12-09T11:22:38.766744Z",
     "iopub.status.busy": "2023-12-09T11:22:38.765649Z",
     "iopub.status.idle": "2023-12-09T11:22:38.770859Z",
     "shell.execute_reply": "2023-12-09T11:22:38.770102Z"
    },
    "papermill": {
     "duration": 0.030462,
     "end_time": "2023-12-09T11:22:38.772538",
     "exception": false,
     "start_time": "2023-12-09T11:22:38.742076",
     "status": "completed"
    },
    "tags": []
   },
   "outputs": [],
   "source": [
    "#submission = pd.DataFrame(columns = [\"ID\",\"total_amount\"])\n",
    "#submission[\"ID\"] = [i for i in range(1,len(final_pred)+1)]\n",
    "#submission[\"total_amount\"] = final_pred\n",
    "#submission.to_csv('submission.csv',index=False)"
   ]
  }
 ],
 "metadata": {
  "kaggle": {
   "accelerator": "none",
   "dataSources": [
    {
     "databundleVersionId": 6604167,
     "sourceId": 61246,
     "sourceType": "competition"
    }
   ],
   "dockerImageVersionId": 30558,
   "isGpuEnabled": false,
   "isInternetEnabled": true,
   "language": "python",
   "sourceType": "notebook"
  },
  "kernelspec": {
   "display_name": "Python 3",
   "language": "python",
   "name": "python3"
  },
  "language_info": {
   "codemirror_mode": {
    "name": "ipython",
    "version": 3
   },
   "file_extension": ".py",
   "mimetype": "text/x-python",
   "name": "python",
   "nbconvert_exporter": "python",
   "pygments_lexer": "ipython3",
   "version": "3.10.12"
  },
  "papermill": {
   "default_parameters": {},
   "duration": 5785.389572,
   "end_time": "2023-12-09T11:22:39.528525",
   "environment_variables": {},
   "exception": null,
   "input_path": "__notebook__.ipynb",
   "output_path": "__notebook__.ipynb",
   "parameters": {},
   "start_time": "2023-12-09T09:46:14.138953",
   "version": "2.4.0"
  }
 },
 "nbformat": 4,
 "nbformat_minor": 5
}
